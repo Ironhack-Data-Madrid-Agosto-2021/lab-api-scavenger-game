{
 "cells": [
  {
   "cell_type": "markdown",
   "id": "threaded-asbestos",
   "metadata": {},
   "source": [
    "# Challenge 2: Count Commits\n",
    "\n",
    "Count how many commits were made in the past week.\n",
    "\n",
    "Obtain all the commits made in the past week via API, which is a JSON array that contains multiple commit objects.\n",
    "\n",
    "Count how many commit objects are contained in the array."
   ]
  },
  {
   "cell_type": "markdown",
   "id": "norwegian-praise",
   "metadata": {},
   "source": [
    "⚠️ **Remember to limit your output before submission**."
   ]
  },
  {
   "cell_type": "code",
   "execution_count": 1,
   "id": "developing-printing",
   "metadata": {},
   "outputs": [],
   "source": [
    "#Your code"
   ]
  },
  {
   "cell_type": "code",
   "execution_count": 2,
   "id": "creative-stable",
   "metadata": {},
   "outputs": [],
   "source": [
    "# Example: print(variable[:10]) "
   ]
  },
  {
   "cell_type": "code",
   "execution_count": 20,
   "id": "ongoing-taylor",
   "metadata": {},
   "outputs": [],
   "source": [
    "import json\n",
    "import requests\n",
    "import pandas as pd"
   ]
  },
  {
   "cell_type": "code",
   "execution_count": 7,
   "id": "37e837c4",
   "metadata": {},
   "outputs": [],
   "source": [
    "import os\n",
    "from dotenv import load_dotenv"
   ]
  },
  {
   "cell_type": "code",
   "execution_count": 8,
   "id": "19f6d664",
   "metadata": {},
   "outputs": [
    {
     "data": {
      "text/plain": [
       "True"
      ]
     },
     "execution_count": 8,
     "metadata": {},
     "output_type": "execute_result"
    }
   ],
   "source": [
    "load_dotenv()"
   ]
  },
  {
   "cell_type": "code",
   "execution_count": 9,
   "id": "a74b6c3b",
   "metadata": {},
   "outputs": [],
   "source": [
    "url_commits = 'https://api.github.com/repos/ironhack-datalabs/datamad0120/commits'"
   ]
  },
  {
   "cell_type": "code",
   "execution_count": 10,
   "id": "3a060781",
   "metadata": {},
   "outputs": [],
   "source": [
    "github_key = os.getenv('token_git')"
   ]
  },
  {
   "cell_type": "code",
   "execution_count": 17,
   "id": "c4034515",
   "metadata": {},
   "outputs": [],
   "source": [
    "parametros = {'Authorization': f'token{github_key}', 'since': '2020-02-01'}"
   ]
  },
  {
   "cell_type": "code",
   "execution_count": 18,
   "id": "5c7a3336",
   "metadata": {},
   "outputs": [],
   "source": [
    "response = requests.get(url_commits, params = parametros).json()"
   ]
  },
  {
   "cell_type": "code",
   "execution_count": 21,
   "id": "6fc3ccbb",
   "metadata": {
    "scrolled": false
   },
   "outputs": [],
   "source": [
    "df = pd.DataFrame(response)"
   ]
  },
  {
   "cell_type": "code",
   "execution_count": 23,
   "id": "7c26c170",
   "metadata": {},
   "outputs": [
    {
     "data": {
      "text/plain": [
       "sha             17\n",
       "node_id         17\n",
       "commit          17\n",
       "url             17\n",
       "html_url        17\n",
       "comments_url    17\n",
       "author          17\n",
       "committer       17\n",
       "parents         17\n",
       "dtype: int64"
      ]
     },
     "execution_count": 23,
     "metadata": {},
     "output_type": "execute_result"
    }
   ],
   "source": [
    "df.count()"
   ]
  },
  {
   "cell_type": "code",
   "execution_count": null,
   "id": "1ce26d36",
   "metadata": {},
   "outputs": [],
   "source": [
    "# 17 commits en febrero"
   ]
  }
 ],
 "metadata": {
  "kernelspec": {
   "display_name": "Python 3",
   "language": "python",
   "name": "python3"
  },
  "language_info": {
   "codemirror_mode": {
    "name": "ipython",
    "version": 3
   },
   "file_extension": ".py",
   "mimetype": "text/x-python",
   "name": "python",
   "nbconvert_exporter": "python",
   "pygments_lexer": "ipython3",
   "version": "3.8.8"
  },
  "toc": {
   "base_numbering": 1,
   "nav_menu": {},
   "number_sections": true,
   "sideBar": true,
   "skip_h1_title": true,
   "title_cell": "Table of Contents",
   "title_sidebar": "Contents",
   "toc_cell": false,
   "toc_position": {
    "height": "calc(100% - 180px)",
    "left": "10px",
    "top": "150px",
    "width": "288px"
   },
   "toc_section_display": true,
   "toc_window_display": true
  }
 },
 "nbformat": 4,
 "nbformat_minor": 5
}
