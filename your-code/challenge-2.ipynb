{
 "cells": [
  {
   "cell_type": "markdown",
   "id": "threaded-asbestos",
   "metadata": {},
   "source": [
    "# Challenge 2: Count Commits\n",
    "\n",
    "Count how many commits were made in the past week.\n",
    "\n",
    "Obtain all the commits made in the past week via API, which is a JSON array that contains multiple commit objects.\n",
    "\n",
    "Count how many commit objects are contained in the array."
   ]
  },
  {
   "cell_type": "markdown",
   "id": "norwegian-praise",
   "metadata": {},
   "source": [
    "⚠️ **Remember to limit your output before submission**."
   ]
  },
  {
   "cell_type": "code",
   "execution_count": 1,
   "id": "developing-printing",
   "metadata": {},
   "outputs": [],
   "source": [
    "#Import libraries\n",
    "\n",
    "import json\n",
    "import requests\n",
    "from pandas import json_normalize\n",
    "import os\n",
    "from dotenv import load_dotenv"
   ]
  },
  {
   "cell_type": "code",
   "execution_count": 2,
   "id": "ongoing-taylor",
   "metadata": {},
   "outputs": [
    {
     "data": {
      "text/plain": [
       "True"
      ]
     },
     "execution_count": 2,
     "metadata": {},
     "output_type": "execute_result"
    }
   ],
   "source": [
    "load_dotenv()"
   ]
  },
  {
   "cell_type": "code",
   "execution_count": 3,
   "id": "17639d63",
   "metadata": {},
   "outputs": [],
   "source": [
    "github = os.getenv(\"git_token\")"
   ]
  },
  {
   "cell_type": "code",
   "execution_count": 4,
   "id": "d5929d0a",
   "metadata": {},
   "outputs": [],
   "source": [
    "url_commits = (\"https://api.github.com/repos/ironhack-datalabs/datamad0120/commits\")"
   ]
  },
  {
   "cell_type": "code",
   "execution_count": 9,
   "id": "dbff273c",
   "metadata": {},
   "outputs": [],
   "source": [
    "parameters = {\"Authorization\": f\"token {github}\" , \"since\":\"2020-02-01T00:00:00Z\"}"
   ]
  },
  {
   "cell_type": "code",
   "execution_count": 10,
   "id": "91c6a60b",
   "metadata": {},
   "outputs": [],
   "source": [
    "response = requests.get(url_commits, params = parameters).json()"
   ]
  },
  {
   "cell_type": "code",
   "execution_count": 15,
   "id": "ab5f105f",
   "metadata": {},
   "outputs": [],
   "source": [
    "commits = json_normalize(response)\n",
    "# commits"
   ]
  },
  {
   "cell_type": "code",
   "execution_count": 12,
   "id": "cdaf4553",
   "metadata": {},
   "outputs": [
    {
     "data": {
      "text/plain": [
       "0     2020-02-12T12:27:32Z\n",
       "1     2020-02-06T11:50:50Z\n",
       "2     2020-02-06T11:47:21Z\n",
       "3     2020-02-06T11:30:28Z\n",
       "4     2020-02-06T11:29:40Z\n",
       "5     2020-02-06T11:25:31Z\n",
       "6     2020-02-06T11:19:31Z\n",
       "7     2020-02-06T11:08:46Z\n",
       "8     2020-02-06T11:06:46Z\n",
       "9     2020-02-06T11:06:12Z\n",
       "10    2020-02-06T11:05:10Z\n",
       "11    2020-02-06T11:04:28Z\n",
       "12    2020-02-06T11:03:44Z\n",
       "13    2020-02-06T11:03:25Z\n",
       "14    2020-02-06T11:00:54Z\n",
       "15    2020-02-06T10:51:34Z\n",
       "16    2020-02-06T10:43:02Z\n",
       "Name: commit.author.date, dtype: object"
      ]
     },
     "execution_count": 12,
     "metadata": {},
     "output_type": "execute_result"
    }
   ],
   "source": [
    "commits['commit.author.date']"
   ]
  },
  {
   "cell_type": "code",
   "execution_count": null,
   "id": "7646eacb",
   "metadata": {},
   "outputs": [],
   "source": []
  }
 ],
 "metadata": {
  "kernelspec": {
   "display_name": "Python 3 (ipykernel)",
   "language": "python",
   "name": "python3"
  },
  "language_info": {
   "codemirror_mode": {
    "name": "ipython",
    "version": 3
   },
   "file_extension": ".py",
   "mimetype": "text/x-python",
   "name": "python",
   "nbconvert_exporter": "python",
   "pygments_lexer": "ipython3",
   "version": "3.9.2"
  },
  "toc": {
   "base_numbering": 1,
   "nav_menu": {},
   "number_sections": true,
   "sideBar": true,
   "skip_h1_title": true,
   "title_cell": "Table of Contents",
   "title_sidebar": "Contents",
   "toc_cell": false,
   "toc_position": {
    "height": "calc(100% - 180px)",
    "left": "10px",
    "top": "150px",
    "width": "288px"
   },
   "toc_section_display": true,
   "toc_window_display": true
  }
 },
 "nbformat": 4,
 "nbformat_minor": 5
}
