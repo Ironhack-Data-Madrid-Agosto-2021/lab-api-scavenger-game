{
 "cells": [
  {
   "cell_type": "code",
   "execution_count": 2,
   "metadata": {},
   "outputs": [],
   "source": [
    "import json\n",
    "import requests"
   ]
  },
  {
   "cell_type": "markdown",
   "metadata": {},
   "source": [
    "Only if you're using your environmental variable eith the `.env` file, import/install the following modules. Otherwise it is not necessary:\n",
    "\n",
    "https://pypi.org/project/python-dotenv/"
   ]
  },
  {
   "cell_type": "code",
   "execution_count": 3,
   "metadata": {},
   "outputs": [],
   "source": [
    "import os\n",
    "from dotenv import load_dotenv"
   ]
  },
  {
   "cell_type": "code",
   "execution_count": 4,
   "metadata": {},
   "outputs": [],
   "source": [
    "#pip install python-dotenv"
   ]
  },
  {
   "cell_type": "code",
   "execution_count": 5,
   "metadata": {},
   "outputs": [
    {
     "data": {
      "text/plain": [
       "True"
      ]
     },
     "execution_count": 5,
     "metadata": {},
     "output_type": "execute_result"
    }
   ],
   "source": [
    "load_dotenv()"
   ]
  },
  {
   "cell_type": "markdown",
   "metadata": {},
   "source": [
    "# Challenge 1: Fork Languages\n",
    "\n",
    "You will find out how many programming languages are used among all the forks created from the main lab repo of your bootcamp. Assuming the main lab repo is ironhack-datalabs/datamad1020-rev, you will:\n",
    "\n",
    "1. Obtain the full list of forks created from the main lab repo via Github API.\n",
    "\n",
    "2. Loop the JSON response to find out the language attribute of each fork. Use an array to store the language attributes of each fork.\n",
    "\n",
    "Hint: Each language should appear only once in your array.\n",
    "\n",
    "3. Print the language array. It should be something like:\n",
    "\n",
    "[\"Python\", \"Jupyter Notebook\", \"HTML\"]\n"
   ]
  },
  {
   "cell_type": "markdown",
   "metadata": {},
   "source": [
    "**HINT:**: Create a list with every **language_url** you find in every fork "
   ]
  },
  {
   "cell_type": "markdown",
   "metadata": {},
   "source": [
    "⚠️ **Remember to limit your output before submission**."
   ]
  },
  {
   "cell_type": "code",
   "execution_count": 7,
   "metadata": {},
   "outputs": [],
   "source": [
    "url_forks = 'https://api.github.com/repos/ironhack-datalabs/datamad0120/forks'"
   ]
  },
  {
   "cell_type": "code",
   "execution_count": 12,
   "metadata": {},
   "outputs": [],
   "source": [
    "github_key = os.getenv('token_git')"
   ]
  },
  {
   "cell_type": "code",
   "execution_count": 13,
   "metadata": {},
   "outputs": [],
   "source": [
    "parametros = {'Authorization': f'token{github_key}'}"
   ]
  },
  {
   "cell_type": "code",
   "execution_count": 15,
   "metadata": {},
   "outputs": [],
   "source": [
    "response = requests.get(url_forks, headers = parametros).json()"
   ]
  },
  {
   "cell_type": "code",
   "execution_count": 17,
   "metadata": {},
   "outputs": [
    {
     "data": {
      "text/plain": [
       "30"
      ]
     },
     "execution_count": 17,
     "metadata": {},
     "output_type": "execute_result"
    }
   ],
   "source": [
    "len(response)"
   ]
  },
  {
   "cell_type": "code",
   "execution_count": 19,
   "metadata": {},
   "outputs": [
    {
     "data": {
      "text/plain": [
       "'paularotaola/datamad0120'"
      ]
     },
     "execution_count": 19,
     "metadata": {},
     "output_type": "execute_result"
    }
   ],
   "source": [
    "response[0]['full_name']"
   ]
  },
  {
   "cell_type": "code",
   "execution_count": 20,
   "metadata": {},
   "outputs": [
    {
     "data": {
      "text/plain": [
       "'paularotaola'"
      ]
     },
     "execution_count": 20,
     "metadata": {},
     "output_type": "execute_result"
    }
   ],
   "source": [
    "response[0]['owner']['login']"
   ]
  },
  {
   "cell_type": "code",
   "execution_count": 22,
   "metadata": {},
   "outputs": [],
   "source": [
    "nombres = [nombre['owner']['login'] for nombre in response]"
   ]
  },
  {
   "cell_type": "code",
   "execution_count": 23,
   "metadata": {},
   "outputs": [
    {
     "data": {
      "text/plain": [
       "['paularotaola',\n",
       " 'blancalluch',\n",
       " 'Nereland',\n",
       " 'lusuelves',\n",
       " 'Clapiniella',\n",
       " 'Teo-Lopez',\n",
       " 'Alexvidalcor',\n",
       " 'lauravillalba',\n",
       " 'fabianlojo',\n",
       " 'vagabundoo',\n",
       " 'Marlenkaa',\n",
       " 'sowe01',\n",
       " 'Bersuan',\n",
       " 'SergioGomis',\n",
       " 'guille-ds',\n",
       " 'IvanDGregor',\n",
       " 'E2811',\n",
       " 'Cristina6692',\n",
       " 'ireneisdoomed',\n",
       " 'x22a',\n",
       " 'eduman13',\n",
       " 'hector-lovi',\n",
       " 'ricardoafsp',\n",
       " 'datamad-content',\n",
       " 'meryreddoor',\n",
       " 'jmpchamizo',\n",
       " 'agalvezcorell',\n",
       " 'guillermomar',\n",
       " 'patricrp',\n",
       " 'MdeMaic']"
      ]
     },
     "execution_count": 23,
     "metadata": {},
     "output_type": "execute_result"
    }
   ],
   "source": [
    "nombres"
   ]
  },
  {
   "cell_type": "code",
   "execution_count": 36,
   "metadata": {},
   "outputs": [
    {
     "data": {
      "text/plain": [
       "'https://api.github.com/repos/paularotaola/datamad0120/languages'"
      ]
     },
     "execution_count": 36,
     "metadata": {},
     "output_type": "execute_result"
    }
   ],
   "source": [
    "response[0]['languages_url']"
   ]
  },
  {
   "cell_type": "code",
   "execution_count": 43,
   "metadata": {},
   "outputs": [],
   "source": [
    "languages = [pepe['languages_url'] for pepe in response]"
   ]
  },
  {
   "cell_type": "code",
   "execution_count": 44,
   "metadata": {},
   "outputs": [
    {
     "data": {
      "text/plain": [
       "['https://api.github.com/repos/paularotaola/datamad0120/languages',\n",
       " 'https://api.github.com/repos/blancalluch/datamad0120/languages',\n",
       " 'https://api.github.com/repos/Nereland/datamad0120/languages',\n",
       " 'https://api.github.com/repos/lusuelves/datamad0120/languages',\n",
       " 'https://api.github.com/repos/Clapiniella/datamad0120/languages',\n",
       " 'https://api.github.com/repos/Teo-Lopez/datamad0120/languages',\n",
       " 'https://api.github.com/repos/Alexvidalcor/datamad0120/languages',\n",
       " 'https://api.github.com/repos/lauravillalba/datamad0120/languages',\n",
       " 'https://api.github.com/repos/fabianlojo/datamad0120/languages',\n",
       " 'https://api.github.com/repos/vagabundoo/datamad0120/languages',\n",
       " 'https://api.github.com/repos/Marlenkaa/datamad0120/languages',\n",
       " 'https://api.github.com/repos/sowe01/datamad0120/languages',\n",
       " 'https://api.github.com/repos/Bersuan/datamad0120-1/languages',\n",
       " 'https://api.github.com/repos/SergioGomis/datamad0120/languages',\n",
       " 'https://api.github.com/repos/guille-ds/IH-DataMad-0120/languages',\n",
       " 'https://api.github.com/repos/IvanDGregor/datamad0120/languages',\n",
       " 'https://api.github.com/repos/E2811/datamad0120/languages',\n",
       " 'https://api.github.com/repos/Cristina6692/datamad0120/languages',\n",
       " 'https://api.github.com/repos/ireneisdoomed/datamad0120/languages',\n",
       " 'https://api.github.com/repos/x22a/datamad0120/languages',\n",
       " 'https://api.github.com/repos/eduman13/datamad0120/languages',\n",
       " 'https://api.github.com/repos/hector-lovi/datamad0120/languages',\n",
       " 'https://api.github.com/repos/ricardoafsp/datamad0120-1/languages',\n",
       " 'https://api.github.com/repos/datamad-content/datamad0120/languages',\n",
       " 'https://api.github.com/repos/meryreddoor/datamad0120/languages',\n",
       " 'https://api.github.com/repos/jmpchamizo/datamad0120/languages',\n",
       " 'https://api.github.com/repos/agalvezcorell/datamad0120/languages',\n",
       " 'https://api.github.com/repos/guillermomar/datamad0120/languages',\n",
       " 'https://api.github.com/repos/patricrp/datamad0120/languages',\n",
       " 'https://api.github.com/repos/MdeMaic/datamad0120-labs/languages']"
      ]
     },
     "execution_count": 44,
     "metadata": {},
     "output_type": "execute_result"
    }
   ],
   "source": [
    "languages"
   ]
  },
  {
   "cell_type": "code",
   "execution_count": 62,
   "metadata": {},
   "outputs": [],
   "source": [
    "def language_url(url):\n",
    "    print(f'{url} esta siendo requesteado')\n",
    "    parametros = {'Authorization': f'token{github_key}'}\n",
    "    res = requests.get(url, params = parametros).json()\n",
    "    return res"
   ]
  },
  {
   "cell_type": "code",
   "execution_count": 64,
   "metadata": {},
   "outputs": [
    {
     "name": "stdout",
     "output_type": "stream",
     "text": [
      "https://api.github.com/repos/paularotaola/datamad0120/languages esta siendo requesteado\n",
      "https://api.github.com/repos/blancalluch/datamad0120/languages esta siendo requesteado\n",
      "https://api.github.com/repos/Nereland/datamad0120/languages esta siendo requesteado\n",
      "https://api.github.com/repos/lusuelves/datamad0120/languages esta siendo requesteado\n",
      "https://api.github.com/repos/Clapiniella/datamad0120/languages esta siendo requesteado\n",
      "https://api.github.com/repos/Teo-Lopez/datamad0120/languages esta siendo requesteado\n",
      "https://api.github.com/repos/Alexvidalcor/datamad0120/languages esta siendo requesteado\n",
      "https://api.github.com/repos/lauravillalba/datamad0120/languages esta siendo requesteado\n",
      "https://api.github.com/repos/fabianlojo/datamad0120/languages esta siendo requesteado\n",
      "https://api.github.com/repos/vagabundoo/datamad0120/languages esta siendo requesteado\n",
      "https://api.github.com/repos/Marlenkaa/datamad0120/languages esta siendo requesteado\n",
      "https://api.github.com/repos/sowe01/datamad0120/languages esta siendo requesteado\n",
      "https://api.github.com/repos/Bersuan/datamad0120-1/languages esta siendo requesteado\n",
      "https://api.github.com/repos/SergioGomis/datamad0120/languages esta siendo requesteado\n",
      "https://api.github.com/repos/guille-ds/IH-DataMad-0120/languages esta siendo requesteado\n",
      "https://api.github.com/repos/IvanDGregor/datamad0120/languages esta siendo requesteado\n",
      "https://api.github.com/repos/E2811/datamad0120/languages esta siendo requesteado\n",
      "https://api.github.com/repos/Cristina6692/datamad0120/languages esta siendo requesteado\n",
      "https://api.github.com/repos/ireneisdoomed/datamad0120/languages esta siendo requesteado\n",
      "https://api.github.com/repos/x22a/datamad0120/languages esta siendo requesteado\n",
      "https://api.github.com/repos/eduman13/datamad0120/languages esta siendo requesteado\n",
      "https://api.github.com/repos/hector-lovi/datamad0120/languages esta siendo requesteado\n",
      "https://api.github.com/repos/ricardoafsp/datamad0120-1/languages esta siendo requesteado\n",
      "https://api.github.com/repos/datamad-content/datamad0120/languages esta siendo requesteado\n",
      "https://api.github.com/repos/meryreddoor/datamad0120/languages esta siendo requesteado\n",
      "https://api.github.com/repos/jmpchamizo/datamad0120/languages esta siendo requesteado\n",
      "https://api.github.com/repos/agalvezcorell/datamad0120/languages esta siendo requesteado\n",
      "https://api.github.com/repos/guillermomar/datamad0120/languages esta siendo requesteado\n",
      "https://api.github.com/repos/patricrp/datamad0120/languages esta siendo requesteado\n",
      "https://api.github.com/repos/MdeMaic/datamad0120-labs/languages esta siendo requesteado\n"
     ]
    }
   ],
   "source": [
    "languages_lst_2 =[] \n",
    "for pepito in languages:\n",
    "    url = f'{pepito}'\n",
    "    languages_lst_2.append(language_url(url))"
   ]
  },
  {
   "cell_type": "code",
   "execution_count": 65,
   "metadata": {},
   "outputs": [
    {
     "data": {
      "text/plain": [
       "[{'Jupyter Notebook': 1378462, 'HTML': 498316, 'Python': 30427},\n",
       " {'Jupyter Notebook': 1409603, 'HTML': 498316, 'Python': 33433},\n",
       " {'Jupyter Notebook': 1409603, 'HTML': 498316, 'Python': 20656},\n",
       " {'Jupyter Notebook': 1378462, 'HTML': 498316, 'Python': 30427},\n",
       " {'Jupyter Notebook': 1378462, 'HTML': 498316, 'Python': 30427},\n",
       " {'Jupyter Notebook': 1442685, 'HTML': 498316, 'Python': 20656},\n",
       " {'Jupyter Notebook': 1378462, 'HTML': 498316, 'Python': 30427},\n",
       " {'Jupyter Notebook': 1378462, 'HTML': 498316, 'Python': 30427},\n",
       " {'Jupyter Notebook': 1378462, 'HTML': 498316, 'Python': 30427},\n",
       " {'Jupyter Notebook': 1378462, 'HTML': 498316, 'Python': 30427},\n",
       " {'Jupyter Notebook': 1417259, 'HTML': 498316, 'Python': 30427},\n",
       " {'Jupyter Notebook': 71375271, 'HTML': 498316, 'Python': 30427},\n",
       " {'Jupyter Notebook': 1378462, 'HTML': 498316, 'Python': 30427},\n",
       " {'Jupyter Notebook': 1378462, 'HTML': 498316, 'Python': 30427},\n",
       " {'Jupyter Notebook': 1378462, 'HTML': 498316, 'Python': 30427},\n",
       " {'Jupyter Notebook': 1378462, 'HTML': 498316, 'Python': 30427},\n",
       " {'Jupyter Notebook': 1378462, 'HTML': 498316, 'Python': 30427},\n",
       " {'Jupyter Notebook': 1378462, 'HTML': 498316, 'Python': 30427},\n",
       " {'Jupyter Notebook': 10772328,\n",
       "  'HTML': 498316,\n",
       "  'Python': 35260,\n",
       "  'TSQL': 5447,\n",
       "  'Shell': 1051},\n",
       " {'Jupyter Notebook': 1378462, 'HTML': 498316, 'Python': 30427},\n",
       " {'Jupyter Notebook': 1378462, 'HTML': 498316, 'Python': 30427},\n",
       " {'Jupyter Notebook': 1378462, 'HTML': 498316, 'Python': 30427},\n",
       " {'Jupyter Notebook': 1378462, 'HTML': 498316, 'Python': 30427},\n",
       " {'Jupyter Notebook': 1378462, 'HTML': 498316, 'Python': 30427},\n",
       " {'Jupyter Notebook': 1378462, 'HTML': 498316, 'Python': 30427},\n",
       " {'Jupyter Notebook': 1378462, 'HTML': 498316, 'Python': 30427},\n",
       " {'Jupyter Notebook': 1378462, 'HTML': 498316, 'Python': 30427},\n",
       " {'Jupyter Notebook': 1389565, 'HTML': 498316, 'Python': 30427},\n",
       " {'Jupyter Notebook': 1378462, 'HTML': 498316, 'Python': 30427},\n",
       " {'Jupyter Notebook': 1378462, 'HTML': 498316, 'Python': 30427}]"
      ]
     },
     "execution_count": 65,
     "metadata": {},
     "output_type": "execute_result"
    }
   ],
   "source": [
    "languages_lst_2"
   ]
  },
  {
   "cell_type": "code",
   "execution_count": 67,
   "metadata": {},
   "outputs": [
    {
     "data": {
      "text/plain": [
       "dict_keys(['Jupyter Notebook', 'HTML', 'Python'])"
      ]
     },
     "execution_count": 67,
     "metadata": {},
     "output_type": "execute_result"
    }
   ],
   "source": [
    "languages_lst_2[0].keys()"
   ]
  },
  {
   "cell_type": "code",
   "execution_count": 70,
   "metadata": {},
   "outputs": [],
   "source": [
    "languages_keys = []\n",
    "for i in languages_lst_2:\n",
    "    for key in i.keys():\n",
    "        languages_keys.append(key)"
   ]
  },
  {
   "cell_type": "code",
   "execution_count": 73,
   "metadata": {},
   "outputs": [
    {
     "data": {
      "text/plain": [
       "{'HTML', 'Jupyter Notebook', 'Python', 'Shell', 'TSQL'}"
      ]
     },
     "execution_count": 73,
     "metadata": {},
     "output_type": "execute_result"
    }
   ],
   "source": [
    "set(languages_keys)"
   ]
  },
  {
   "cell_type": "code",
   "execution_count": null,
   "metadata": {},
   "outputs": [],
   "source": []
  }
 ],
 "metadata": {
  "kernelspec": {
   "display_name": "Python 3",
   "language": "python",
   "name": "python3"
  },
  "language_info": {
   "codemirror_mode": {
    "name": "ipython",
    "version": 3
   },
   "file_extension": ".py",
   "mimetype": "text/x-python",
   "name": "python",
   "nbconvert_exporter": "python",
   "pygments_lexer": "ipython3",
   "version": "3.8.8"
  },
  "toc": {
   "base_numbering": 1,
   "nav_menu": {},
   "number_sections": true,
   "sideBar": true,
   "skip_h1_title": true,
   "title_cell": "Table of Contents",
   "title_sidebar": "Contents",
   "toc_cell": false,
   "toc_position": {},
   "toc_section_display": true,
   "toc_window_display": false
  }
 },
 "nbformat": 4,
 "nbformat_minor": 2
}
