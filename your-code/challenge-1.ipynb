{
 "cells": [
  {
   "cell_type": "markdown",
   "metadata": {},
   "source": [
    "# Challenge 1: Fork Languages\n",
    "\n",
    "You will find out how many programming languages are used among all the forks created from the main lab repo of your bootcamp. Assuming the main lab repo is ironhack-datalabs/datamad1020-rev, you will:\n",
    "\n",
    "1. Obtain the full list of forks created from the main lab repo via Github API.\n",
    "\n",
    "2. Loop the JSON response to find out the language attribute of each fork. Use an array to store the language attributes of each fork.\n",
    "\n",
    "Hint: Each language should appear only once in your array.\n",
    "\n",
    "3. Print the language array. It should be something like:\n",
    "\n",
    "[\"Python\", \"Jupyter Notebook\", \"HTML\"]\n"
   ]
  },
  {
   "cell_type": "markdown",
   "metadata": {},
   "source": [
    "**HINT:**: Create a list with every **language_url** you find in every fork "
   ]
  },
  {
   "cell_type": "markdown",
   "metadata": {},
   "source": [
    "⚠️ **Remember to limit your output before submission**."
   ]
  },
  {
   "cell_type": "code",
   "execution_count": 1,
   "metadata": {},
   "outputs": [],
   "source": [
    "#Import libraries\n",
    "\n",
    "import json\n",
    "import requests\n",
    "from pandas import json_normalize\n",
    "import os\n",
    "from dotenv import load_dotenv"
   ]
  },
  {
   "cell_type": "markdown",
   "metadata": {},
   "source": [
    "Only if you're using your environmental variable eith the `.env` file, import/install the following modules. Otherwise it is not necessary:\n",
    "\n",
    "https://pypi.org/project/python-dotenv/"
   ]
  },
  {
   "cell_type": "code",
   "execution_count": 2,
   "metadata": {},
   "outputs": [],
   "source": [
    "#pip install python-dotenv"
   ]
  },
  {
   "cell_type": "code",
   "execution_count": 3,
   "metadata": {
    "scrolled": true
   },
   "outputs": [
    {
     "data": {
      "text/plain": [
       "True"
      ]
     },
     "execution_count": 3,
     "metadata": {},
     "output_type": "execute_result"
    }
   ],
   "source": [
    "load_dotenv()"
   ]
  },
  {
   "cell_type": "code",
   "execution_count": 4,
   "metadata": {},
   "outputs": [],
   "source": [
    "github = os.getenv(\"git_token\")"
   ]
  },
  {
   "cell_type": "code",
   "execution_count": 5,
   "metadata": {},
   "outputs": [],
   "source": [
    "url_forks = (\"https://api.github.com/repos/ironhack-datalabs/datamad0120/forks\")"
   ]
  },
  {
   "cell_type": "code",
   "execution_count": 6,
   "metadata": {},
   "outputs": [],
   "source": [
    "parameters = {\"Authorization\": f\"token {github}\"}"
   ]
  },
  {
   "cell_type": "code",
   "execution_count": 7,
   "metadata": {},
   "outputs": [],
   "source": [
    "response = requests.get(url_forks, params = parameters).json()"
   ]
  },
  {
   "cell_type": "code",
   "execution_count": null,
   "metadata": {},
   "outputs": [],
   "source": [
    "# forks = json_normalize(response);\n",
    "# # forks.info()"
   ]
  },
  {
   "cell_type": "code",
   "execution_count": 9,
   "metadata": {},
   "outputs": [],
   "source": [
    "languages_url = [url[\"languages_url\"] for url in response]\n",
    "languages_url = set(languages_url)\n",
    "# languages_url"
   ]
  },
  {
   "cell_type": "code",
   "execution_count": 10,
   "metadata": {},
   "outputs": [],
   "source": [
    "def requestGithub(url):\n",
    "    tok = os.getenv(\"git_token\")\n",
    "    if not tok:\n",
    "        raise ValueError(\"Necesitas un token, revisa el .env\")\n",
    "    print(f\"Estoy haciendo una request a {url}\")\n",
    "    parametros = {\"Authorization\": f\"token {tok}\"}\n",
    "    res = requests.get(url, headers = parametros).json()\n",
    "    return res"
   ]
  },
  {
   "cell_type": "code",
   "execution_count": 11,
   "metadata": {},
   "outputs": [
    {
     "name": "stdout",
     "output_type": "stream",
     "text": [
      "Estoy haciendo una request a https://api.github.com/repos/Nereland/datamad0120/languages\n",
      "Estoy haciendo una request a https://api.github.com/repos/Bersuan/datamad0120-1/languages\n",
      "Estoy haciendo una request a https://api.github.com/repos/vagabundoo/datamad0120/languages\n",
      "Estoy haciendo una request a https://api.github.com/repos/sowe01/datamad0120/languages\n",
      "Estoy haciendo una request a https://api.github.com/repos/jmpchamizo/datamad0120/languages\n",
      "Estoy haciendo una request a https://api.github.com/repos/patricrp/datamad0120/languages\n",
      "Estoy haciendo una request a https://api.github.com/repos/lauravillalba/datamad0120/languages\n",
      "Estoy haciendo una request a https://api.github.com/repos/hector-lovi/datamad0120/languages\n",
      "Estoy haciendo una request a https://api.github.com/repos/datamad-content/datamad0120/languages\n",
      "Estoy haciendo una request a https://api.github.com/repos/agalvezcorell/datamad0120/languages\n",
      "Estoy haciendo una request a https://api.github.com/repos/Teo-Lopez/datamad0120/languages\n",
      "Estoy haciendo una request a https://api.github.com/repos/Marlenkaa/datamad0120/languages\n",
      "Estoy haciendo una request a https://api.github.com/repos/ricardoafsp/datamad0120-1/languages\n",
      "Estoy haciendo una request a https://api.github.com/repos/guillermomar/datamad0120/languages\n",
      "Estoy haciendo una request a https://api.github.com/repos/Cristina6692/datamad0120/languages\n",
      "Estoy haciendo una request a https://api.github.com/repos/Clapiniella/datamad0120/languages\n",
      "Estoy haciendo una request a https://api.github.com/repos/eduman13/datamad0120/languages\n",
      "Estoy haciendo una request a https://api.github.com/repos/x22a/datamad0120/languages\n",
      "Estoy haciendo una request a https://api.github.com/repos/fabianlojo/datamad0120/languages\n",
      "Estoy haciendo una request a https://api.github.com/repos/lusuelves/datamad0120/languages\n",
      "Estoy haciendo una request a https://api.github.com/repos/blancalluch/datamad0120/languages\n",
      "Estoy haciendo una request a https://api.github.com/repos/E2811/datamad0120/languages\n",
      "Estoy haciendo una request a https://api.github.com/repos/paularotaola/datamad0120/languages\n",
      "Estoy haciendo una request a https://api.github.com/repos/Alexvidalcor/datamad0120/languages\n",
      "Estoy haciendo una request a https://api.github.com/repos/meryreddoor/datamad0120/languages\n",
      "Estoy haciendo una request a https://api.github.com/repos/ireneisdoomed/datamad0120/languages\n",
      "Estoy haciendo una request a https://api.github.com/repos/MdeMaic/datamad0120-labs/languages\n",
      "Estoy haciendo una request a https://api.github.com/repos/SergioGomis/datamad0120/languages\n",
      "Estoy haciendo una request a https://api.github.com/repos/IvanDGregor/datamad0120/languages\n",
      "Estoy haciendo una request a https://api.github.com/repos/guille-ds/IH-DataMad-0120/languages\n"
     ]
    }
   ],
   "source": [
    "lista_lenguages_url = []\n",
    "for repo in languages_url:\n",
    "\n",
    "    url = f\"{repo}\"\n",
    "    lista_lenguages_url.append(requestGithub(url))"
   ]
  },
  {
   "cell_type": "code",
   "execution_count": 12,
   "metadata": {},
   "outputs": [
    {
     "data": {
      "text/plain": [
       "[{'Jupyter Notebook': 1409603, 'HTML': 498316, 'Python': 20656},\n",
       " {'Jupyter Notebook': 1378462, 'HTML': 498316, 'Python': 30427},\n",
       " {'Jupyter Notebook': 1378462, 'HTML': 498316, 'Python': 30427},\n",
       " {'Jupyter Notebook': 71375271, 'HTML': 498316, 'Python': 30427},\n",
       " {'Jupyter Notebook': 1378462, 'HTML': 498316, 'Python': 30427},\n",
       " {'Jupyter Notebook': 1378462, 'HTML': 498316, 'Python': 30427},\n",
       " {'Jupyter Notebook': 1378462, 'HTML': 498316, 'Python': 30427},\n",
       " {'Jupyter Notebook': 1378462, 'HTML': 498316, 'Python': 30427},\n",
       " {'Jupyter Notebook': 1378462, 'HTML': 498316, 'Python': 30427},\n",
       " {'Jupyter Notebook': 1378462, 'HTML': 498316, 'Python': 30427},\n",
       " {'Jupyter Notebook': 1442685, 'HTML': 498316, 'Python': 20656},\n",
       " {'Jupyter Notebook': 1417259, 'HTML': 498316, 'Python': 30427},\n",
       " {'Jupyter Notebook': 1378462, 'HTML': 498316, 'Python': 30427},\n",
       " {'Jupyter Notebook': 1389565, 'HTML': 498316, 'Python': 30427},\n",
       " {'Jupyter Notebook': 1378462, 'HTML': 498316, 'Python': 30427},\n",
       " {'Jupyter Notebook': 1378462, 'HTML': 498316, 'Python': 30427},\n",
       " {'Jupyter Notebook': 1378462, 'HTML': 498316, 'Python': 30427},\n",
       " {'Jupyter Notebook': 1378462, 'HTML': 498316, 'Python': 30427},\n",
       " {'Jupyter Notebook': 1378462, 'HTML': 498316, 'Python': 30427},\n",
       " {'Jupyter Notebook': 1378462, 'HTML': 498316, 'Python': 30427},\n",
       " {'Jupyter Notebook': 1409603, 'HTML': 498316, 'Python': 33433},\n",
       " {'Jupyter Notebook': 1378462, 'HTML': 498316, 'Python': 30427},\n",
       " {'Jupyter Notebook': 1378462, 'HTML': 498316, 'Python': 30427},\n",
       " {'Jupyter Notebook': 1378462, 'HTML': 498316, 'Python': 30427},\n",
       " {'Jupyter Notebook': 1378462, 'HTML': 498316, 'Python': 30427},\n",
       " {'Jupyter Notebook': 10772328,\n",
       "  'HTML': 498316,\n",
       "  'Python': 35260,\n",
       "  'TSQL': 5447,\n",
       "  'Shell': 1051},\n",
       " {'Jupyter Notebook': 1378462, 'HTML': 498316, 'Python': 30427},\n",
       " {'Jupyter Notebook': 1378462, 'HTML': 498316, 'Python': 30427},\n",
       " {'Jupyter Notebook': 1378462, 'HTML': 498316, 'Python': 30427},\n",
       " {'Jupyter Notebook': 1378462, 'HTML': 498316, 'Python': 30427}]"
      ]
     },
     "execution_count": 12,
     "metadata": {},
     "output_type": "execute_result"
    }
   ],
   "source": [
    "lista_lenguages_url"
   ]
  },
  {
   "cell_type": "code",
   "execution_count": 13,
   "metadata": {},
   "outputs": [],
   "source": [
    "languages_end = {k for v in lista_lenguages_url for k in v.keys()}"
   ]
  },
  {
   "cell_type": "code",
   "execution_count": 14,
   "metadata": {},
   "outputs": [
    {
     "name": "stdout",
     "output_type": "stream",
     "text": [
      "['TSQL', 'Jupyter Notebook', 'HTML', 'Python', 'Shell']\n"
     ]
    }
   ],
   "source": [
    "print(list(languages_end))"
   ]
  }
 ],
 "metadata": {
  "kernelspec": {
   "display_name": "Python 3 (ipykernel)",
   "language": "python",
   "name": "python3"
  },
  "language_info": {
   "codemirror_mode": {
    "name": "ipython",
    "version": 3
   },
   "file_extension": ".py",
   "mimetype": "text/x-python",
   "name": "python",
   "nbconvert_exporter": "python",
   "pygments_lexer": "ipython3",
   "version": "3.9.2"
  },
  "toc": {
   "base_numbering": 1,
   "nav_menu": {},
   "number_sections": true,
   "sideBar": true,
   "skip_h1_title": true,
   "title_cell": "Table of Contents",
   "title_sidebar": "Contents",
   "toc_cell": false,
   "toc_position": {},
   "toc_section_display": true,
   "toc_window_display": false
  }
 },
 "nbformat": 4,
 "nbformat_minor": 2
}
