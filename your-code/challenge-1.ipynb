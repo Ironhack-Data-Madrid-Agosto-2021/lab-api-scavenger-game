{
 "cells": [
  {
   "cell_type": "code",
   "execution_count": 14,
   "metadata": {},
   "outputs": [],
   "source": [
    "import json\n",
    "import requests"
   ]
  },
  {
   "cell_type": "markdown",
   "metadata": {},
   "source": [
    "Only if you're using your environmental variable eith the `.env` file, import/install the following modules. Otherwise it is not necessary:\n",
    "\n",
    "https://pypi.org/project/python-dotenv/"
   ]
  },
  {
   "cell_type": "code",
   "execution_count": 15,
   "metadata": {},
   "outputs": [],
   "source": [
    "import os\n",
    "from dotenv import load_dotenv"
   ]
  },
  {
   "cell_type": "code",
   "execution_count": null,
   "metadata": {},
   "outputs": [],
   "source": [
    "#pip install python-dotenv"
   ]
  },
  {
   "cell_type": "code",
   "execution_count": 16,
   "metadata": {},
   "outputs": [
    {
     "data": {
      "text/plain": [
       "True"
      ]
     },
     "execution_count": 16,
     "metadata": {},
     "output_type": "execute_result"
    }
   ],
   "source": [
    "load_dotenv()"
   ]
  },
  {
   "cell_type": "code",
   "execution_count": 17,
   "metadata": {},
   "outputs": [],
   "source": [
    "github = os.getenv(\"gittoken\")"
   ]
  },
  {
   "cell_type": "markdown",
   "metadata": {},
   "source": [
    "# Challenge 1: Fork Languages\n",
    "\n",
    "You will find out how many programming languages are used among all the forks created from the main lab repo of your bootcamp. Assuming the main lab repo is ironhack-datalabs/datamad1020-rev, you will:\n",
    "\n",
    "1. Obtain the full list of forks created from the main lab repo via Github API.\n",
    "\n",
    "2. Loop the JSON response to find out the language attribute of each fork. Use an array to store the language attributes of each fork.\n",
    "\n",
    "Hint: Each language should appear only once in your array.\n",
    "\n",
    "3. Print the language array. It should be something like:\n",
    "\n",
    "[\"Python\", \"Jupyter Notebook\", \"HTML\"]\n"
   ]
  },
  {
   "cell_type": "markdown",
   "metadata": {},
   "source": [
    "**HINT:**: Create a list with every **language_url** you find in every fork "
   ]
  },
  {
   "cell_type": "markdown",
   "metadata": {},
   "source": [
    "⚠️ **Remember to limit your output before submission**."
   ]
  },
  {
   "cell_type": "code",
   "execution_count": 43,
   "metadata": {},
   "outputs": [],
   "source": [
    "url_forks = (\"https://api.github.com/repos/ironhack-datalabs/datamad1020-rev/forks\")"
   ]
  },
  {
   "cell_type": "code",
   "execution_count": 44,
   "metadata": {},
   "outputs": [],
   "source": [
    "parameters = {\"Authorization\": f\"token {github}\"}\n"
   ]
  },
  {
   "cell_type": "code",
   "execution_count": 46,
   "metadata": {},
   "outputs": [],
   "source": [
    "response = requests.get(url_forks, headers = parameters).json()"
   ]
  },
  {
   "cell_type": "code",
   "execution_count": 58,
   "metadata": {},
   "outputs": [],
   "source": [
    "#response"
   ]
  },
  {
   "cell_type": "code",
   "execution_count": 48,
   "metadata": {},
   "outputs": [
    {
     "data": {
      "text/plain": [
       "24"
      ]
     },
     "execution_count": 48,
     "metadata": {},
     "output_type": "execute_result"
    }
   ],
   "source": [
    "len(response)"
   ]
  },
  {
   "cell_type": "code",
   "execution_count": 55,
   "metadata": {},
   "outputs": [],
   "source": [
    "lan = [lan[\"languages_url\"] for lan in response]"
   ]
  },
  {
   "cell_type": "code",
   "execution_count": 56,
   "metadata": {},
   "outputs": [
    {
     "data": {
      "text/plain": [
       "['https://api.github.com/repos/BlancaRibas/datamad1020-rev/languages',\n",
       " 'https://api.github.com/repos/acamposla/datamad1020-rev/languages',\n",
       " 'https://api.github.com/repos/PaolaKarina/datamad1020-rev/languages',\n",
       " 'https://api.github.com/repos/VictorRodriguezIronhack/datamad1020-rev/languages',\n",
       " 'https://api.github.com/repos/sonia-quintanar/datamad1020-rev/languages',\n",
       " 'https://api.github.com/repos/jperezllorente/datamad1020-rev/languages',\n",
       " 'https://api.github.com/repos/AnaMA96/datamad1020-rev/languages',\n",
       " 'https://api.github.com/repos/datamad-instructor/datamad1020-rev/languages',\n",
       " 'https://api.github.com/repos/rafadedubra/datamad1020-rev/languages',\n",
       " 'https://api.github.com/repos/Nuria-Pe/datamad1020-rev/languages',\n",
       " 'https://api.github.com/repos/SergioCaler0/datamad1020-rev/languages',\n",
       " 'https://api.github.com/repos/LucianaLescano/datamad1020-rev/languages',\n",
       " 'https://api.github.com/repos/Mario-Sainz/datamad1020-rev/languages',\n",
       " 'https://api.github.com/repos/juanmarin00/datamad1020-rev/languages',\n",
       " 'https://api.github.com/repos/JoseManuel-G/datamad1020-rev/languages',\n",
       " 'https://api.github.com/repos/jesus-perez-366/datamad1020-rev/languages',\n",
       " 'https://api.github.com/repos/sgonzalainen/datamad1020-rev/languages',\n",
       " 'https://api.github.com/repos/Pptrv/datamad1020-rev/languages',\n",
       " 'https://api.github.com/repos/Marxess/datamad1020-rev/languages',\n",
       " 'https://api.github.com/repos/patri-carrasco/datamad1020-rev/languages',\n",
       " 'https://api.github.com/repos/BlueJotas/datamad1020-rev/languages',\n",
       " 'https://api.github.com/repos/jvazquezgalvezlp/datamad1020-rev/languages',\n",
       " 'https://api.github.com/repos/leticia-sobrino/datamad1020-rev/languages',\n",
       " 'https://api.github.com/repos/JaimeCalcedo/datamad1020-rev/languages']"
      ]
     },
     "execution_count": 56,
     "metadata": {},
     "output_type": "execute_result"
    }
   ],
   "source": [
    "lan"
   ]
  },
  {
   "cell_type": "code",
   "execution_count": 64,
   "metadata": {},
   "outputs": [],
   "source": [
    "list_lan = []\n",
    "for repo in lan:\n",
    "    list_lan.append(requests.get(repo,headers = parameters).json())"
   ]
  },
  {
   "cell_type": "code",
   "execution_count": 70,
   "metadata": {},
   "outputs": [
    {
     "data": {
      "text/plain": [
       "[{'Jupyter Notebook': 767922, 'HTML': 498316, 'Python': 38591},\n",
       " {'Jupyter Notebook': 767922, 'HTML': 498316, 'Python': 38591},\n",
       " {'Jupyter Notebook': 767922, 'HTML': 498316, 'Python': 38591},\n",
       " {'Jupyter Notebook': 767922, 'HTML': 498316, 'Python': 38571},\n",
       " {'Jupyter Notebook': 767922, 'HTML': 498316, 'Python': 38571},\n",
       " {'Jupyter Notebook': 767922, 'HTML': 498316, 'Python': 38571},\n",
       " {'Jupyter Notebook': 767922, 'HTML': 498316, 'Python': 38571},\n",
       " {'Jupyter Notebook': 1347658, 'HTML': 498316, 'Python': 38571},\n",
       " {'Jupyter Notebook': 767922, 'HTML': 498316, 'Python': 38571},\n",
       " {'Jupyter Notebook': 767922, 'HTML': 498316, 'Python': 38571},\n",
       " {'Jupyter Notebook': 767922, 'HTML': 498316, 'Python': 38571},\n",
       " {'Jupyter Notebook': 767922, 'HTML': 498316, 'Python': 38571},\n",
       " {'Jupyter Notebook': 767922, 'HTML': 498316, 'Python': 38571},\n",
       " {'Jupyter Notebook': 767922, 'HTML': 498316, 'Python': 38571},\n",
       " {'Jupyter Notebook': 767922, 'HTML': 498316, 'Python': 38571},\n",
       " {'Jupyter Notebook': 767922, 'HTML': 498316, 'Python': 38571},\n",
       " {'Jupyter Notebook': 767922, 'HTML': 498316, 'Python': 38571},\n",
       " {'Jupyter Notebook': 767922, 'HTML': 498316, 'Python': 38571},\n",
       " {'Jupyter Notebook': 767922, 'HTML': 498316, 'Python': 38571},\n",
       " {'Jupyter Notebook': 767922, 'HTML': 498316, 'Python': 38571},\n",
       " {'Jupyter Notebook': 767922, 'HTML': 498316, 'Python': 38571},\n",
       " {'Jupyter Notebook': 767922, 'HTML': 498316, 'Python': 38571},\n",
       " {'Jupyter Notebook': 767922, 'HTML': 498316, 'Python': 38571},\n",
       " {'Jupyter Notebook': 767922, 'HTML': 498316, 'Python': 38571}]"
      ]
     },
     "execution_count": 70,
     "metadata": {},
     "output_type": "execute_result"
    }
   ],
   "source": [
    "list_lan"
   ]
  },
  {
   "cell_type": "code",
   "execution_count": 71,
   "metadata": {},
   "outputs": [
    {
     "data": {
      "text/plain": [
       "dict_keys(['Jupyter Notebook', 'HTML', 'Python'])"
      ]
     },
     "execution_count": 71,
     "metadata": {},
     "output_type": "execute_result"
    }
   ],
   "source": [
    "list_lan[0].keys()"
   ]
  }
 ],
 "metadata": {
  "kernelspec": {
   "display_name": "Python 3 (ipykernel)",
   "language": "python",
   "name": "python3"
  },
  "language_info": {
   "codemirror_mode": {
    "name": "ipython",
    "version": 3
   },
   "file_extension": ".py",
   "mimetype": "text/x-python",
   "name": "python",
   "nbconvert_exporter": "python",
   "pygments_lexer": "ipython3",
   "version": "3.8.10"
  },
  "toc": {
   "base_numbering": 1,
   "nav_menu": {},
   "number_sections": true,
   "sideBar": true,
   "skip_h1_title": true,
   "title_cell": "Table of Contents",
   "title_sidebar": "Contents",
   "toc_cell": false,
   "toc_position": {},
   "toc_section_display": true,
   "toc_window_display": false
  }
 },
 "nbformat": 4,
 "nbformat_minor": 2
}
