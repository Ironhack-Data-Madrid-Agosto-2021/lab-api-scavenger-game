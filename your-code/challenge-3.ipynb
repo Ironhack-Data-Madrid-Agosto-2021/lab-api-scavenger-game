{
 "cells": [
  {
   "cell_type": "markdown",
   "id": "defensive-clock",
   "metadata": {},
   "source": [
    "# Challenge 3: Hidden Cold Joke\n",
    "\n",
    "Using Python, call Github API to find out the cold joke contained in the 24 secret files in the following repo:\n",
    "\n",
    "https://github.com/ironhack-datalabs/scavenger\n",
    "\n",
    "The filenames of the secret files contain .scavengerhunt and they are scattered in different directories of this repo. The secret files are named from .0001.scavengerhunt to .0024.scavengerhunt. They are scattered randomly throughout this repo. You need to search for these files by calling the Github API, not searching the local files on your computer.\n",
    "\n",
    "\n",
    "After you find out the secrete files:\n",
    "\n",
    "Sort the filenames ascendingly.\n",
    "\n",
    "Read the content of each secret files into an array of strings.\n",
    "\n",
    "Concatenate the strings in the array separating each two with a whitespace.\n",
    "\n",
    "Print out the joke."
   ]
  },
  {
   "cell_type": "markdown",
   "id": "universal-length",
   "metadata": {},
   "source": [
    "⚠️ **Remember to limit your output before submission**."
   ]
  },
  {
   "cell_type": "code",
   "execution_count": 5,
   "id": "toxic-trading",
   "metadata": {
    "jupyter": {
     "source_hidden": true
    },
    "tags": []
   },
   "outputs": [],
   "source": [
    "# Your code\n",
    "import json\n",
    "import requests\n",
    "import time\n",
    "import os\n",
    "from dotenv import load_dotenv\n",
    "import re"
   ]
  },
  {
   "cell_type": "code",
   "execution_count": 6,
   "id": "17f5ca83-1189-46a6-9d74-5ea4865a957e",
   "metadata": {},
   "outputs": [],
   "source": [
    "load_dotenv()\n",
    "github = os.getenv(\"token\")"
   ]
  },
  {
   "cell_type": "code",
   "execution_count": 7,
   "id": "static-stopping",
   "metadata": {},
   "outputs": [],
   "source": [
    "# Example: print(variable[:10]) \n",
    "url_com = \"https://api.github.com/repos/ironhack-datalabs/scavenger/contents\"\n",
    "parametros = {\"Authorization\": f\"token {github}\"}\n",
    "request = requests.get(url_com, params = parametros).json()"
   ]
  },
  {
   "cell_type": "code",
   "execution_count": 8,
   "id": "178d0e2d-62e4-403b-abeb-489b427a506e",
   "metadata": {},
   "outputs": [],
   "source": [
    "fork_lan = []\n",
    "for ind, file in enumerate(request):\n",
    "    fork_lan.append(requests.get(request[ind][\"url\"], headers = parametros).json())"
   ]
  },
  {
   "cell_type": "code",
   "execution_count": 9,
   "id": "a15ee6f3-6eeb-414b-b918-2bef6ca7948a",
   "metadata": {},
   "outputs": [],
   "source": [
    "q = str(requests.get(fork_lan[2][0]['download_url'], params = parametros).content)"
   ]
  },
  {
   "cell_type": "code",
   "execution_count": 10,
   "id": "ac0f292f-ab3f-48da-a0c2-07181bf44081",
   "metadata": {
    "tags": []
   },
   "outputs": [],
   "source": [
    "a=[]\n",
    "order=[]\n",
    "for ind, x in enumerate(fork_lan):\n",
    "        for ind2, y in enumerate(x):\n",
    "            try:\n",
    "                if re.search('.scavengerhunt$',fork_lan[ind][ind2]['name']):\n",
    "                    order.append(re.findall('.(\\d+).',fork_lan[ind][ind2]['name']))\n",
    "                    a.append(re.findall(\"b'(.+)\\\\\\\\n\",str(requests.get(fork_lan[ind][ind2]['download_url'], params = parametros).content)))\n",
    "            except:\n",
    "                pass"
   ]
  },
  {
   "cell_type": "code",
   "execution_count": 11,
   "id": "2b545ed5-e9d7-4090-a6b7-ecc74156cc82",
   "metadata": {},
   "outputs": [],
   "source": [
    "order2 = order\n",
    "de_list2 = []\n",
    "for x in order2:\n",
    "    de_list2.append(int(x[0]))"
   ]
  },
  {
   "cell_type": "code",
   "execution_count": 12,
   "id": "56968815-4309-4c4b-93f5-c39691eb2f99",
   "metadata": {},
   "outputs": [],
   "source": [
    "b = a\n",
    "de_list = []\n",
    "for x in b:\n",
    "    de_list.append(x[0])"
   ]
  },
  {
   "cell_type": "code",
   "execution_count": 13,
   "id": "b51cd636-ec99-4ad5-9d35-668c8b7f400d",
   "metadata": {},
   "outputs": [],
   "source": [
    "final_list = [x for _, x in sorted(zip(de_list2,de_list))]"
   ]
  },
  {
   "cell_type": "code",
   "execution_count": 14,
   "id": "1ab5e04a-f258-408a-9d4f-94f2e501010b",
   "metadata": {},
   "outputs": [],
   "source": [
    "final_str = ' '.join(final_list)"
   ]
  },
  {
   "cell_type": "code",
   "execution_count": 15,
   "id": "b68d458c-6a0a-4a56-b896-1e6a2d366bc8",
   "metadata": {},
   "outputs": [
    {
     "data": {
      "text/plain": [
       "'In data science, 80 percent of time spent is preparing data, 20 percent of time is spent complaining about the need to prepare data.'"
      ]
     },
     "execution_count": 15,
     "metadata": {},
     "output_type": "execute_result"
    }
   ],
   "source": [
    "final_str"
   ]
  }
 ],
 "metadata": {
  "kernelspec": {
   "display_name": "ironhack",
   "language": "python",
   "name": "ironhack"
  },
  "language_info": {
   "codemirror_mode": {
    "name": "ipython",
    "version": 3
   },
   "file_extension": ".py",
   "mimetype": "text/x-python",
   "name": "python",
   "nbconvert_exporter": "python",
   "pygments_lexer": "ipython3",
   "version": "3.9.6"
  },
  "toc": {
   "base_numbering": 1,
   "nav_menu": {},
   "number_sections": true,
   "sideBar": true,
   "skip_h1_title": true,
   "title_cell": "Table of Contents",
   "title_sidebar": "Contents",
   "toc_cell": false,
   "toc_position": {},
   "toc_section_display": true,
   "toc_window_display": true
  }
 },
 "nbformat": 4,
 "nbformat_minor": 5
}
