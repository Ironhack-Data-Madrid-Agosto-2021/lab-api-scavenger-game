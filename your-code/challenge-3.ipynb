{
 "cells": [
  {
   "cell_type": "markdown",
   "metadata": {},
   "source": [
    "# Challenge 3: Hidden Cold Joke\n",
    "\n",
    "Using Python, call Github API to find out the cold joke contained in the 24 secret files in the following repo:\n",
    "\n",
    "https://github.com/ironhack-datalabs/scavenger\n",
    "\n",
    "The filenames of the secret files contain .scavengerhunt and they are scattered in different directories of this repo. The secret files are named from .0001.scavengerhunt to .0024.scavengerhunt. They are scattered randomly throughout this repo. You need to search for these files by calling the Github API, not searching the local files on your computer.\n",
    "\n",
    "\n",
    "After you find out the secrete files:\n",
    "\n",
    "Sort the filenames ascendingly.\n",
    "\n",
    "Read the content of each secret files into an array of strings.\n",
    "\n",
    "Concatenate the strings in the array separating each two with a whitespace.\n",
    "\n",
    "Print out the joke."
   ]
  },
  {
   "cell_type": "markdown",
   "metadata": {},
   "source": [
    "⚠️ **Remember to limit your output before submission**."
   ]
  },
  {
   "cell_type": "code",
   "execution_count": 74,
   "metadata": {},
   "outputs": [],
   "source": [
    "import json\n",
    "import requests\n",
    "import os\n",
    "from dotenv import load_dotenv\n",
    "import pandas as pd\n",
    "import re"
   ]
  },
  {
   "cell_type": "code",
   "execution_count": 23,
   "metadata": {},
   "outputs": [],
   "source": [
    "url_jokes = 'https://api.github.com/repos/ironhack-datalabs/scavenger/contents'"
   ]
  },
  {
   "cell_type": "code",
   "execution_count": 24,
   "metadata": {},
   "outputs": [],
   "source": [
    "github_key = os.getenv(\"token_git\")\n",
    "parameters = {\"Authorization\": f\"token {github_key}\"}\n",
    "response = requests.get(url_jokes, params = parameters).json()"
   ]
  },
  {
   "cell_type": "code",
   "execution_count": 25,
   "metadata": {},
   "outputs": [
    {
     "name": "stdout",
     "output_type": "stream",
     "text": [
      "[{'name': '.gitignore', 'path': '.gitignore', 'sha': 'e43b0f988953ae3a84b00331d0ccf5f7d51cb3cf', 'size': 10, 'url': 'https://api.github.com/repos/ironhack-datalabs/scavenger/contents/.gitignore?ref=master', 'html_url': 'https://github.com/ironhack-datalabs/scavenger/blob/master/.gitignore', 'git_url': 'https://api.github.com/repos/ironhack-datalabs/scavenger/git/blobs/e43b0f988953ae3a84b00331d0ccf5f7d51cb3cf', 'download_url': 'https://raw.githubusercontent.com/ironhack-datalabs/scavenger/master/.gitignore', 'type': 'file', '_links': {'self': 'https://api.github.com/repos/ironhack-datalabs/scavenger/contents/.gitignore?ref=master', 'git': 'https://api.github.com/repos/ironhack-datalabs/scavenger/git/blobs/e43b0f988953ae3a84b00331d0ccf5f7d51cb3cf', 'html': 'https://github.com/ironhack-datalabs/scavenger/blob/master/.gitignore'}}, {'name': '15024', 'path': '15024', 'sha': '2945e51c87ad5da893c954afcf092f06343bbb7d', 'size': 0, 'url': 'https://api.github.com/repos/ironhack-datalabs/scavenger/contents/15024?ref=master', 'html_url': 'https://github.com/ironhack-datalabs/scavenger/tree/master/15024', 'git_url': 'https://api.github.com/repos/ironhack-datalabs/scavenger/git/trees/2945e51c87ad5da893c954afcf092f06343bbb7d', 'download_url': None, 'type': 'dir', '_links': {'self': 'https://api.github.com/repos/ironhack-datalabs/scavenger/contents/15024?ref=master', 'git': 'https://api.github.com/repos/ironhack-datalabs/scavenger/git/trees/2945e51c87ad5da893c954afcf092f06343bbb7d', 'html': 'https://github.com/ironhack-datalabs/scavenger/tree/master/15024'}}, {'name': '15534', 'path': '15534', 'sha': '5af6f2a7287e4191f39e55693fc1e9c8918d1d3a', 'size': 0, 'url': 'https://api.github.com/repos/ironhack-datalabs/scavenger/contents/15534?ref=master', 'html_url': 'https://github.com/ironhack-datalabs/scavenger/tree/master/15534', 'git_url': 'https://api.github.com/repos/ironhack-datalabs/scavenger/git/trees/5af6f2a7287e4191f39e55693fc1e9c8918d1d3a', 'download_url': None, 'type': 'dir', '_links': {'self': 'https://api.github.com/repos/ironhack-datalabs/scavenger/contents/15534?ref=master', 'git': 'https://api.github.com/repos/ironhack-datalabs/scavenger/git/trees/5af6f2a7287e4191f39e55693fc1e9c8918d1d3a', 'html': 'https://github.com/ironhack-datalabs/scavenger/tree/master/15534'}}, {'name': '17020', 'path': '17020', 'sha': '9c49f920aa4d9433fa99a5824128f0e6b90ec5f2', 'size': 0, 'url': 'https://api.github.com/repos/ironhack-datalabs/scavenger/contents/17020?ref=master', 'html_url': 'https://github.com/ironhack-datalabs/scavenger/tree/master/17020', 'git_url': 'https://api.github.com/repos/ironhack-datalabs/scavenger/git/trees/9c49f920aa4d9433fa99a5824128f0e6b90ec5f2', 'download_url': None, 'type': 'dir', '_links': {'self': 'https://api.github.com/repos/ironhack-datalabs/scavenger/contents/17020?ref=master', 'git': 'https://api.github.com/repos/ironhack-datalabs/scavenger/git/trees/9c49f920aa4d9433fa99a5824128f0e6b90ec5f2', 'html': 'https://github.com/ironhack-datalabs/scavenger/tree/master/17020'}}, {'name': '30351', 'path': '30351', 'sha': 'c488d7f64088c852e22067d48fdc64ee3670f3ba', 'size': 0, 'url': 'https://api.github.com/repos/ironhack-datalabs/scavenger/contents/30351?ref=master', 'html_url': 'https://github.com/ironhack-datalabs/scavenger/tree/master/30351', 'git_url': 'https://api.github.com/repos/ironhack-datalabs/scavenger/git/trees/c488d7f64088c852e22067d48fdc64ee3670f3ba', 'download_url': None, 'type': 'dir', '_links': {'self': 'https://api.github.com/repos/ironhack-datalabs/scavenger/contents/30351?ref=master', 'git': 'https://api.github.com/repos/ironhack-datalabs/scavenger/git/trees/c488d7f64088c852e22067d48fdc64ee3670f3ba', 'html': 'https://github.com/ironhack-datalabs/scavenger/tree/master/30351'}}, {'name': '40303', 'path': '40303', 'sha': '30193d9cf62b07bcbb6366513ff03596861f2d29', 'size': 0, 'url': 'https://api.github.com/repos/ironhack-datalabs/scavenger/contents/40303?ref=master', 'html_url': 'https://github.com/ironhack-datalabs/scavenger/tree/master/40303', 'git_url': 'https://api.github.com/repos/ironhack-datalabs/scavenger/git/trees/30193d9cf62b07bcbb6366513ff03596861f2d29', 'download_url': None, 'type': 'dir', '_links': {'self': 'https://api.github.com/repos/ironhack-datalabs/scavenger/contents/40303?ref=master', 'git': 'https://api.github.com/repos/ironhack-datalabs/scavenger/git/trees/30193d9cf62b07bcbb6366513ff03596861f2d29', 'html': 'https://github.com/ironhack-datalabs/scavenger/tree/master/40303'}}, {'name': '44639', 'path': '44639', 'sha': '22fc3d5c2db80822c351edb2248f3491c8ebda86', 'size': 0, 'url': 'https://api.github.com/repos/ironhack-datalabs/scavenger/contents/44639?ref=master', 'html_url': 'https://github.com/ironhack-datalabs/scavenger/tree/master/44639', 'git_url': 'https://api.github.com/repos/ironhack-datalabs/scavenger/git/trees/22fc3d5c2db80822c351edb2248f3491c8ebda86', 'download_url': None, 'type': 'dir', '_links': {'self': 'https://api.github.com/repos/ironhack-datalabs/scavenger/contents/44639?ref=master', 'git': 'https://api.github.com/repos/ironhack-datalabs/scavenger/git/trees/22fc3d5c2db80822c351edb2248f3491c8ebda86', 'html': 'https://github.com/ironhack-datalabs/scavenger/tree/master/44639'}}, {'name': '45525', 'path': '45525', 'sha': '6a4a88cd9084110c8646c3cfd84dfe96b300a4a7', 'size': 0, 'url': 'https://api.github.com/repos/ironhack-datalabs/scavenger/contents/45525?ref=master', 'html_url': 'https://github.com/ironhack-datalabs/scavenger/tree/master/45525', 'git_url': 'https://api.github.com/repos/ironhack-datalabs/scavenger/git/trees/6a4a88cd9084110c8646c3cfd84dfe96b300a4a7', 'download_url': None, 'type': 'dir', '_links': {'self': 'https://api.github.com/repos/ironhack-datalabs/scavenger/contents/45525?ref=master', 'git': 'https://api.github.com/repos/ironhack-datalabs/scavenger/git/trees/6a4a88cd9084110c8646c3cfd84dfe96b300a4a7', 'html': 'https://github.com/ironhack-datalabs/scavenger/tree/master/45525'}}, {'name': '47222', 'path': '47222', 'sha': 'c7001604cdadc2fe7b82e0f6996690718cac6941', 'size': 0, 'url': 'https://api.github.com/repos/ironhack-datalabs/scavenger/contents/47222?ref=master', 'html_url': 'https://github.com/ironhack-datalabs/scavenger/tree/master/47222', 'git_url': 'https://api.github.com/repos/ironhack-datalabs/scavenger/git/trees/c7001604cdadc2fe7b82e0f6996690718cac6941', 'download_url': None, 'type': 'dir', '_links': {'self': 'https://api.github.com/repos/ironhack-datalabs/scavenger/contents/47222?ref=master', 'git': 'https://api.github.com/repos/ironhack-datalabs/scavenger/git/trees/c7001604cdadc2fe7b82e0f6996690718cac6941', 'html': 'https://github.com/ironhack-datalabs/scavenger/tree/master/47222'}}, {'name': '47830', 'path': '47830', 'sha': 'f84882ad7560fd2b8c6a0867bc707ce9009ef288', 'size': 0, 'url': 'https://api.github.com/repos/ironhack-datalabs/scavenger/contents/47830?ref=master', 'html_url': 'https://github.com/ironhack-datalabs/scavenger/tree/master/47830', 'git_url': 'https://api.github.com/repos/ironhack-datalabs/scavenger/git/trees/f84882ad7560fd2b8c6a0867bc707ce9009ef288', 'download_url': None, 'type': 'dir', '_links': {'self': 'https://api.github.com/repos/ironhack-datalabs/scavenger/contents/47830?ref=master', 'git': 'https://api.github.com/repos/ironhack-datalabs/scavenger/git/trees/f84882ad7560fd2b8c6a0867bc707ce9009ef288', 'html': 'https://github.com/ironhack-datalabs/scavenger/tree/master/47830'}}, {'name': '49418', 'path': '49418', 'sha': '46bc658c09589d9023246b00e848ce97d30d4989', 'size': 0, 'url': 'https://api.github.com/repos/ironhack-datalabs/scavenger/contents/49418?ref=master', 'html_url': 'https://github.com/ironhack-datalabs/scavenger/tree/master/49418', 'git_url': 'https://api.github.com/repos/ironhack-datalabs/scavenger/git/trees/46bc658c09589d9023246b00e848ce97d30d4989', 'download_url': None, 'type': 'dir', '_links': {'self': 'https://api.github.com/repos/ironhack-datalabs/scavenger/contents/49418?ref=master', 'git': 'https://api.github.com/repos/ironhack-datalabs/scavenger/git/trees/46bc658c09589d9023246b00e848ce97d30d4989', 'html': 'https://github.com/ironhack-datalabs/scavenger/tree/master/49418'}}, {'name': '50896', 'path': '50896', 'sha': 'e47a7a35a19f80694587330c57d94e28d3b4c054', 'size': 0, 'url': 'https://api.github.com/repos/ironhack-datalabs/scavenger/contents/50896?ref=master', 'html_url': 'https://github.com/ironhack-datalabs/scavenger/tree/master/50896', 'git_url': 'https://api.github.com/repos/ironhack-datalabs/scavenger/git/trees/e47a7a35a19f80694587330c57d94e28d3b4c054', 'download_url': None, 'type': 'dir', '_links': {'self': 'https://api.github.com/repos/ironhack-datalabs/scavenger/contents/50896?ref=master', 'git': 'https://api.github.com/repos/ironhack-datalabs/scavenger/git/trees/e47a7a35a19f80694587330c57d94e28d3b4c054', 'html': 'https://github.com/ironhack-datalabs/scavenger/tree/master/50896'}}, {'name': '55417', 'path': '55417', 'sha': '636fa555a2ee752759144a268fd860feb2b6fd2d', 'size': 0, 'url': 'https://api.github.com/repos/ironhack-datalabs/scavenger/contents/55417?ref=master', 'html_url': 'https://github.com/ironhack-datalabs/scavenger/tree/master/55417', 'git_url': 'https://api.github.com/repos/ironhack-datalabs/scavenger/git/trees/636fa555a2ee752759144a268fd860feb2b6fd2d', 'download_url': None, 'type': 'dir', '_links': {'self': 'https://api.github.com/repos/ironhack-datalabs/scavenger/contents/55417?ref=master', 'git': 'https://api.github.com/repos/ironhack-datalabs/scavenger/git/trees/636fa555a2ee752759144a268fd860feb2b6fd2d', 'html': 'https://github.com/ironhack-datalabs/scavenger/tree/master/55417'}}, {'name': '55685', 'path': '55685', 'sha': 'a00a8148a88287508a867616d7063786d3d5d4ff', 'size': 0, 'url': 'https://api.github.com/repos/ironhack-datalabs/scavenger/contents/55685?ref=master', 'html_url': 'https://github.com/ironhack-datalabs/scavenger/tree/master/55685', 'git_url': 'https://api.github.com/repos/ironhack-datalabs/scavenger/git/trees/a00a8148a88287508a867616d7063786d3d5d4ff', 'download_url': None, 'type': 'dir', '_links': {'self': 'https://api.github.com/repos/ironhack-datalabs/scavenger/contents/55685?ref=master', 'git': 'https://api.github.com/repos/ironhack-datalabs/scavenger/git/trees/a00a8148a88287508a867616d7063786d3d5d4ff', 'html': 'https://github.com/ironhack-datalabs/scavenger/tree/master/55685'}}, {'name': '60224', 'path': '60224', 'sha': '28d70fba98bfacfaa5e5544b2eff6b61c9e8f57b', 'size': 0, 'url': 'https://api.github.com/repos/ironhack-datalabs/scavenger/contents/60224?ref=master', 'html_url': 'https://github.com/ironhack-datalabs/scavenger/tree/master/60224', 'git_url': 'https://api.github.com/repos/ironhack-datalabs/scavenger/git/trees/28d70fba98bfacfaa5e5544b2eff6b61c9e8f57b', 'download_url': None, 'type': 'dir', '_links': {'self': 'https://api.github.com/repos/ironhack-datalabs/scavenger/contents/60224?ref=master', 'git': 'https://api.github.com/repos/ironhack-datalabs/scavenger/git/trees/28d70fba98bfacfaa5e5544b2eff6b61c9e8f57b', 'html': 'https://github.com/ironhack-datalabs/scavenger/tree/master/60224'}}, {'name': '64880', 'path': '64880', 'sha': '88b159d6f73378e6968bb35ccfd8e3ad0cc462d2', 'size': 0, 'url': 'https://api.github.com/repos/ironhack-datalabs/scavenger/contents/64880?ref=master', 'html_url': 'https://github.com/ironhack-datalabs/scavenger/tree/master/64880', 'git_url': 'https://api.github.com/repos/ironhack-datalabs/scavenger/git/trees/88b159d6f73378e6968bb35ccfd8e3ad0cc462d2', 'download_url': None, 'type': 'dir', '_links': {'self': 'https://api.github.com/repos/ironhack-datalabs/scavenger/contents/64880?ref=master', 'git': 'https://api.github.com/repos/ironhack-datalabs/scavenger/git/trees/88b159d6f73378e6968bb35ccfd8e3ad0cc462d2', 'html': 'https://github.com/ironhack-datalabs/scavenger/tree/master/64880'}}, {'name': '66032', 'path': '66032', 'sha': '0230fa6fa1ccf49ab976fbbfc9eb838094779785', 'size': 0, 'url': 'https://api.github.com/repos/ironhack-datalabs/scavenger/contents/66032?ref=master', 'html_url': 'https://github.com/ironhack-datalabs/scavenger/tree/master/66032', 'git_url': 'https://api.github.com/repos/ironhack-datalabs/scavenger/git/trees/0230fa6fa1ccf49ab976fbbfc9eb838094779785', 'download_url': None, 'type': 'dir', '_links': {'self': 'https://api.github.com/repos/ironhack-datalabs/scavenger/contents/66032?ref=master', 'git': 'https://api.github.com/repos/ironhack-datalabs/scavenger/git/trees/0230fa6fa1ccf49ab976fbbfc9eb838094779785', 'html': 'https://github.com/ironhack-datalabs/scavenger/tree/master/66032'}}, {'name': '68848', 'path': '68848', 'sha': 'ed2f90be6835e7e74c283aedba1942b788754d32', 'size': 0, 'url': 'https://api.github.com/repos/ironhack-datalabs/scavenger/contents/68848?ref=master', 'html_url': 'https://github.com/ironhack-datalabs/scavenger/tree/master/68848', 'git_url': 'https://api.github.com/repos/ironhack-datalabs/scavenger/git/trees/ed2f90be6835e7e74c283aedba1942b788754d32', 'download_url': None, 'type': 'dir', '_links': {'self': 'https://api.github.com/repos/ironhack-datalabs/scavenger/contents/68848?ref=master', 'git': 'https://api.github.com/repos/ironhack-datalabs/scavenger/git/trees/ed2f90be6835e7e74c283aedba1942b788754d32', 'html': 'https://github.com/ironhack-datalabs/scavenger/tree/master/68848'}}, {'name': '70751', 'path': '70751', 'sha': 'a5d9391003b67cecf3c336398ec38cfa75a689b7', 'size': 0, 'url': 'https://api.github.com/repos/ironhack-datalabs/scavenger/contents/70751?ref=master', 'html_url': 'https://github.com/ironhack-datalabs/scavenger/tree/master/70751', 'git_url': 'https://api.github.com/repos/ironhack-datalabs/scavenger/git/trees/a5d9391003b67cecf3c336398ec38cfa75a689b7', 'download_url': None, 'type': 'dir', '_links': {'self': 'https://api.github.com/repos/ironhack-datalabs/scavenger/contents/70751?ref=master', 'git': 'https://api.github.com/repos/ironhack-datalabs/scavenger/git/trees/a5d9391003b67cecf3c336398ec38cfa75a689b7', 'html': 'https://github.com/ironhack-datalabs/scavenger/tree/master/70751'}}, {'name': '70985', 'path': '70985', 'sha': 'd1a654c5811f52ec8a101652b0a04367644eab99', 'size': 0, 'url': 'https://api.github.com/repos/ironhack-datalabs/scavenger/contents/70985?ref=master', 'html_url': 'https://github.com/ironhack-datalabs/scavenger/tree/master/70985', 'git_url': 'https://api.github.com/repos/ironhack-datalabs/scavenger/git/trees/d1a654c5811f52ec8a101652b0a04367644eab99', 'download_url': None, 'type': 'dir', '_links': {'self': 'https://api.github.com/repos/ironhack-datalabs/scavenger/contents/70985?ref=master', 'git': 'https://api.github.com/repos/ironhack-datalabs/scavenger/git/trees/d1a654c5811f52ec8a101652b0a04367644eab99', 'html': 'https://github.com/ironhack-datalabs/scavenger/tree/master/70985'}}, {'name': '88596', 'path': '88596', 'sha': 'f294d2a0e55a4bab12625a7f709b44450a5e4648', 'size': 0, 'url': 'https://api.github.com/repos/ironhack-datalabs/scavenger/contents/88596?ref=master', 'html_url': 'https://github.com/ironhack-datalabs/scavenger/tree/master/88596', 'git_url': 'https://api.github.com/repos/ironhack-datalabs/scavenger/git/trees/f294d2a0e55a4bab12625a7f709b44450a5e4648', 'download_url': None, 'type': 'dir', '_links': {'self': 'https://api.github.com/repos/ironhack-datalabs/scavenger/contents/88596?ref=master', 'git': 'https://api.github.com/repos/ironhack-datalabs/scavenger/git/trees/f294d2a0e55a4bab12625a7f709b44450a5e4648', 'html': 'https://github.com/ironhack-datalabs/scavenger/tree/master/88596'}}, {'name': '89046', 'path': '89046', 'sha': '5f3ef5f14cf72bbe03a24b69777ba02f19a3adb5', 'size': 0, 'url': 'https://api.github.com/repos/ironhack-datalabs/scavenger/contents/89046?ref=master', 'html_url': 'https://github.com/ironhack-datalabs/scavenger/tree/master/89046', 'git_url': 'https://api.github.com/repos/ironhack-datalabs/scavenger/git/trees/5f3ef5f14cf72bbe03a24b69777ba02f19a3adb5', 'download_url': None, 'type': 'dir', '_links': {'self': 'https://api.github.com/repos/ironhack-datalabs/scavenger/contents/89046?ref=master', 'git': 'https://api.github.com/repos/ironhack-datalabs/scavenger/git/trees/5f3ef5f14cf72bbe03a24b69777ba02f19a3adb5', 'html': 'https://github.com/ironhack-datalabs/scavenger/tree/master/89046'}}, {'name': '89338', 'path': '89338', 'sha': '79c94a4032a927b2af52cc6da4ce27eb2abbf55e', 'size': 0, 'url': 'https://api.github.com/repos/ironhack-datalabs/scavenger/contents/89338?ref=master', 'html_url': 'https://github.com/ironhack-datalabs/scavenger/tree/master/89338', 'git_url': 'https://api.github.com/repos/ironhack-datalabs/scavenger/git/trees/79c94a4032a927b2af52cc6da4ce27eb2abbf55e', 'download_url': None, 'type': 'dir', '_links': {'self': 'https://api.github.com/repos/ironhack-datalabs/scavenger/contents/89338?ref=master', 'git': 'https://api.github.com/repos/ironhack-datalabs/scavenger/git/trees/79c94a4032a927b2af52cc6da4ce27eb2abbf55e', 'html': 'https://github.com/ironhack-datalabs/scavenger/tree/master/89338'}}, {'name': '91701', 'path': '91701', 'sha': '0ad19115f0b56c3cd10cb7e077140c201b527301', 'size': 0, 'url': 'https://api.github.com/repos/ironhack-datalabs/scavenger/contents/91701?ref=master', 'html_url': 'https://github.com/ironhack-datalabs/scavenger/tree/master/91701', 'git_url': 'https://api.github.com/repos/ironhack-datalabs/scavenger/git/trees/0ad19115f0b56c3cd10cb7e077140c201b527301', 'download_url': None, 'type': 'dir', '_links': {'self': 'https://api.github.com/repos/ironhack-datalabs/scavenger/contents/91701?ref=master', 'git': 'https://api.github.com/repos/ironhack-datalabs/scavenger/git/trees/0ad19115f0b56c3cd10cb7e077140c201b527301', 'html': 'https://github.com/ironhack-datalabs/scavenger/tree/master/91701'}}, {'name': '97881', 'path': '97881', 'sha': 'c369c43c17ec44cc3e66dd27f8e557f9d15d40f4', 'size': 0, 'url': 'https://api.github.com/repos/ironhack-datalabs/scavenger/contents/97881?ref=master', 'html_url': 'https://github.com/ironhack-datalabs/scavenger/tree/master/97881', 'git_url': 'https://api.github.com/repos/ironhack-datalabs/scavenger/git/trees/c369c43c17ec44cc3e66dd27f8e557f9d15d40f4', 'download_url': None, 'type': 'dir', '_links': {'self': 'https://api.github.com/repos/ironhack-datalabs/scavenger/contents/97881?ref=master', 'git': 'https://api.github.com/repos/ironhack-datalabs/scavenger/git/trees/c369c43c17ec44cc3e66dd27f8e557f9d15d40f4', 'html': 'https://github.com/ironhack-datalabs/scavenger/tree/master/97881'}}, {'name': '98750', 'path': '98750', 'sha': 'cdc23915e0a5179127458431986ba3750840a924', 'size': 0, 'url': 'https://api.github.com/repos/ironhack-datalabs/scavenger/contents/98750?ref=master', 'html_url': 'https://github.com/ironhack-datalabs/scavenger/tree/master/98750', 'git_url': 'https://api.github.com/repos/ironhack-datalabs/scavenger/git/trees/cdc23915e0a5179127458431986ba3750840a924', 'download_url': None, 'type': 'dir', '_links': {'self': 'https://api.github.com/repos/ironhack-datalabs/scavenger/contents/98750?ref=master', 'git': 'https://api.github.com/repos/ironhack-datalabs/scavenger/git/trees/cdc23915e0a5179127458431986ba3750840a924', 'html': 'https://github.com/ironhack-datalabs/scavenger/tree/master/98750'}}]\n"
     ]
    }
   ],
   "source": [
    "print(response)"
   ]
  },
  {
   "cell_type": "code",
   "execution_count": 42,
   "metadata": {},
   "outputs": [],
   "source": [
    "paths = [i['path'] for i in response]"
   ]
  },
  {
   "cell_type": "code",
   "execution_count": 43,
   "metadata": {},
   "outputs": [
    {
     "name": "stdout",
     "output_type": "stream",
     "text": [
      "['.gitignore', '15024', '15534', '17020', '30351', '40303', '44639', '45525', '47222', '47830', '49418', '50896', '55417', '55685', '60224', '64880', '66032', '68848', '70751', '70985', '88596', '89046', '89338', '91701', '97881', '98750']\n"
     ]
    }
   ],
   "source": [
    "print(paths)"
   ]
  },
  {
   "cell_type": "code",
   "execution_count": 44,
   "metadata": {},
   "outputs": [],
   "source": [
    "def request(url):\n",
    "    github_key = os.getenv(\"token_git\")\n",
    "    parameters = {\"Authorization\": f\"token {github_key}\"}\n",
    "    response = requests.get(url, params = parameters).json()\n",
    "    return response"
   ]
  },
  {
   "cell_type": "code",
   "execution_count": 108,
   "metadata": {},
   "outputs": [],
   "source": [
    "scavengers = []\n",
    "\n",
    "for path in paths[1:]:\n",
    "    url = f\"https://api.github.com/repos/ironhack-datalabs/scavenger/contents/{path}\"\n",
    "    scavengers.append(request(url))"
   ]
  },
  {
   "cell_type": "code",
   "execution_count": 109,
   "metadata": {},
   "outputs": [
    {
     "data": {
      "text/plain": [
       "25"
      ]
     },
     "execution_count": 109,
     "metadata": {},
     "output_type": "execute_result"
    }
   ],
   "source": [
    "len(scavengers)"
   ]
  },
  {
   "cell_type": "code",
   "execution_count": 78,
   "metadata": {},
   "outputs": [
    {
     "name": "stdout",
     "output_type": "stream",
     "text": [
      "[[{'name': '.0006.scavengerhunt', 'path': '15024/.0006.scavengerhunt', 'sha': '1c9064284a24b3486015eafdb391b141c27ada2b', 'size': 3, 'url': 'https://api.github.com/repos/ironhack-datalabs/scavenger/contents/15024/.0006.scavengerhunt?ref=master', 'html_url': 'https://github.com/ironhack-datalabs/scavenger/blob/master/15024/.0006.scavengerhunt', 'git_url': 'https://api.github.com/repos/ironhack-datalabs/scavenger/git/blobs/1c9064284a24b3486015eafdb391b141c27ada2b', 'download_url': 'https://raw.githubusercontent.com/ironhack-datalabs/scavenger/master/15024/.0006.scavengerhunt', 'type': 'file', '_links': {'self': 'https://api.github.com/repos/ironhack-datalabs/scavenger/contents/15024/.0006.scavengerhunt?ref=master', 'git': 'https://api.github.com/repos/ironhack-datalabs/scavenger/git/blobs/1c9064284a24b3486015eafdb391b141c27ada2b', 'html': 'https://github.com/ironhack-datalabs/scavenger/blob/master/15024/.0006.scavengerhunt'}}, {'name': '40', 'path': '15024/40', 'sha': 'e69de29bb2d1d6434b8b29ae775ad8c2e48c5391', 'size': 0, 'url': 'https://api.github.com/repos/ironhack-datalabs/scavenger/contents/15024/40?ref=master', 'html_url': 'https://github.com/ironhack-datalabs/scavenger/blob/master/15024/40', 'git_url': 'https://api.github.com/repos/ironhack-datalabs/scavenger/git/blobs/e69de29bb2d1d6434b8b29ae775ad8c2e48c5391', 'download_url': 'https://raw.githubusercontent.com/ironhack-datalabs/scavenger/master/15024/40', 'type': 'file', '_links': {'self': 'https://api.github.com/repos/ironhack-datalabs/scavenger/contents/15024/40?ref=master', 'git': 'https://api.github.com/repos/ironhack-datalabs/scavenger/git/blobs/e69de29bb2d1d6434b8b29ae775ad8c2e48c5391', 'html': 'https://github.com/ironhack-datalabs/scavenger/blob/master/15024/40'}}, {'name': '74', 'path': '15024/74', 'sha': 'e69de29bb2d1d6434b8b29ae775ad8c2e48c5391', 'size': 0, 'url': 'https://api.github.com/repos/ironhack-datalabs/scavenger/contents/15024/74?ref=master', 'html_url': 'https://github.com/ironhack-datalabs/scavenger/blob/master/15024/74', 'git_url': 'https://api.github.com/repos/ironhack-datalabs/scavenger/git/blobs/e69de29bb2d1d6434b8b29ae775ad8c2e48c5391', 'download_url': 'https://raw.githubusercontent.com/ironhack-datalabs/scavenger/master/15024/74', 'type': 'file', '_links': {'self': 'https://api.github.com/repos/ironhack-datalabs/scavenger/contents/15024/74?ref=master', 'git': 'https://api.github.com/repos/ironhack-datalabs/scavenger/git/blobs/e69de29bb2d1d6434b8b29ae775ad8c2e48c5391', 'html': 'https://github.com/ironhack-datalabs/scavenger/blob/master/15024/74'}}, {'name': '99', 'path': '15024/99', 'sha': 'e69de29bb2d1d6434b8b29ae775ad8c2e48c5391', 'size': 0, 'url': 'https://api.github.com/repos/ironhack-datalabs/scavenger/contents/15024/99?ref=master', 'html_url': 'https://github.com/ironhack-datalabs/scavenger/blob/master/15024/99', 'git_url': 'https://api.github.com/repos/ironhack-datalabs/scavenger/git/blobs/e69de29bb2d1d6434b8b29ae775ad8c2e48c5391', 'download_url': 'https://raw.githubusercontent.com/ironhack-datalabs/scavenger/master/15024/99', 'type': 'file', '_links': {'self': 'https://api.github.com/repos/ironhack-datalabs/scavenger/contents/15024/99?ref=master', 'git': 'https://api.github.com/repos/ironhack-datalabs/scavenger/git/blobs/e69de29bb2d1d6434b8b29ae775ad8c2e48c5391', 'html': 'https://github.com/ironhack-datalabs/scavenger/blob/master/15024/99'}}], [{'name': '.0008.scavengerhunt', 'path': '15534/.0008.scavengerhunt', 'sha': 'e351fb73264581ce26504b97ef07daea35116f32', 'size': 6, 'url': 'https://api.github.com/repos/ironhack-datalabs/scavenger/contents/15534/.0008.scavengerhunt?ref=master', 'html_url': 'https://github.com/ironhack-datalabs/scavenger/blob/master/15534/.0008.scavengerhunt', 'git_url': 'https://api.github.com/repos/ironhack-datalabs/scavenger/git/blobs/e351fb73264581ce26504b97ef07daea35116f32', 'download_url': 'https://raw.githubusercontent.com/ironhack-datalabs/scavenger/master/15534/.0008.scavengerhunt', 'type': 'file', '_links': {'self': 'https://api.github.com/repos/ironhack-datalabs/scavenger/contents/15534/.0008.scavengerhunt?ref=master', 'git': 'https://api.github.com/repos/ironhack-datalabs/scavenger/git/blobs/e351fb73264581ce26504b97ef07daea35116f32', 'html': 'https://github.com/ironhack-datalabs/scavenger/blob/master/15534/.0008.scavengerhunt'}}, {'name': '.0012.scavengerhunt', 'path': '15534/.0012.scavengerhunt', 'sha': '209e3ef4b6247ce746048d5711befda46206d235', 'size': 3, 'url': 'https://api.github.com/repos/ironhack-datalabs/scavenger/contents/15534/.0012.scavengerhunt?ref=master', 'html_url': 'https://github.com/ironhack-datalabs/scavenger/blob/master/15534/.0012.scavengerhunt', 'git_url': 'https://api.github.com/repos/ironhack-datalabs/scavenger/git/blobs/209e3ef4b6247ce746048d5711befda46206d235', 'download_url': 'https://raw.githubusercontent.com/ironhack-datalabs/scavenger/master/15534/.0012.scavengerhunt', 'type': 'file', '_links': {'self': 'https://api.github.com/repos/ironhack-datalabs/scavenger/contents/15534/.0012.scavengerhunt?ref=master', 'git': 'https://api.github.com/repos/ironhack-datalabs/scavenger/git/blobs/209e3ef4b6247ce746048d5711befda46206d235', 'html': 'https://github.com/ironhack-datalabs/scavenger/blob/master/15534/.0012.scavengerhunt'}}, {'name': '2', 'path': '15534/2', 'sha': 'e69de29bb2d1d6434b8b29ae775ad8c2e48c5391', 'size': 0, 'url': 'https://api.github.com/repos/ironhack-datalabs/scavenger/contents/15534/2?ref=master', 'html_url': 'https://github.com/ironhack-datalabs/scavenger/blob/master/15534/2', 'git_url': 'https://api.github.com/repos/ironhack-datalabs/scavenger/git/blobs/e69de29bb2d1d6434b8b29ae775ad8c2e48c5391', 'download_url': 'https://raw.githubusercontent.com/ironhack-datalabs/scavenger/master/15534/2', 'type': 'file', '_links': {'self': 'https://api.github.com/repos/ironhack-datalabs/scavenger/contents/15534/2?ref=master', 'git': 'https://api.github.com/repos/ironhack-datalabs/scavenger/git/blobs/e69de29bb2d1d6434b8b29ae775ad8c2e48c5391', 'html': 'https://github.com/ironhack-datalabs/scavenger/blob/master/15534/2'}}, {'name': '98', 'path': '15534/98', 'sha': 'e69de29bb2d1d6434b8b29ae775ad8c2e48c5391', 'size': 0, 'url': 'https://api.github.com/repos/ironhack-datalabs/scavenger/contents/15534/98?ref=master', 'html_url': 'https://github.com/ironhack-datalabs/scavenger/blob/master/15534/98', 'git_url': 'https://api.github.com/repos/ironhack-datalabs/scavenger/git/blobs/e69de29bb2d1d6434b8b29ae775ad8c2e48c5391', 'download_url': 'https://raw.githubusercontent.com/ironhack-datalabs/scavenger/master/15534/98', 'type': 'file', '_links': {'self': 'https://api.github.com/repos/ironhack-datalabs/scavenger/contents/15534/98?ref=master', 'git': 'https://api.github.com/repos/ironhack-datalabs/scavenger/git/blobs/e69de29bb2d1d6434b8b29ae775ad8c2e48c5391', 'html': 'https://github.com/ironhack-datalabs/scavenger/blob/master/15534/98'}}], [{'name': '.0007.scavengerhunt', 'path': '17020/.0007.scavengerhunt', 'sha': '6abb415e0ae3450be0f323113bcca2af195ebbff', 'size': 5, 'url': 'https://api.github.com/repos/ironhack-datalabs/scavenger/contents/17020/.0007.scavengerhunt?ref=master', 'html_url': 'https://github.com/ironhack-datalabs/scavenger/blob/master/17020/.0007.scavengerhunt', 'git_url': 'https://api.github.com/repos/ironhack-datalabs/scavenger/git/blobs/6abb415e0ae3450be0f323113bcca2af195ebbff', 'download_url': 'https://raw.githubusercontent.com/ironhack-datalabs/scavenger/master/17020/.0007.scavengerhunt', 'type': 'file', '_links': {'self': 'https://api.github.com/repos/ironhack-datalabs/scavenger/contents/17020/.0007.scavengerhunt?ref=master', 'git': 'https://api.github.com/repos/ironhack-datalabs/scavenger/git/blobs/6abb415e0ae3450be0f323113bcca2af195ebbff', 'html': 'https://github.com/ironhack-datalabs/scavenger/blob/master/17020/.0007.scavengerhunt'}}, {'name': '46', 'path': '17020/46', 'sha': 'e69de29bb2d1d6434b8b29ae775ad8c2e48c5391', 'size': 0, 'url': 'https://api.github.com/repos/ironhack-datalabs/scavenger/contents/17020/46?ref=master', 'html_url': 'https://github.com/ironhack-datalabs/scavenger/blob/master/17020/46', 'git_url': 'https://api.github.com/repos/ironhack-datalabs/scavenger/git/blobs/e69de29bb2d1d6434b8b29ae775ad8c2e48c5391', 'download_url': 'https://raw.githubusercontent.com/ironhack-datalabs/scavenger/master/17020/46', 'type': 'file', '_links': {'self': 'https://api.github.com/repos/ironhack-datalabs/scavenger/contents/17020/46?ref=master', 'git': 'https://api.github.com/repos/ironhack-datalabs/scavenger/git/blobs/e69de29bb2d1d6434b8b29ae775ad8c2e48c5391', 'html': 'https://github.com/ironhack-datalabs/scavenger/blob/master/17020/46'}}, {'name': '97', 'path': '17020/97', 'sha': 'e69de29bb2d1d6434b8b29ae775ad8c2e48c5391', 'size': 0, 'url': 'https://api.github.com/repos/ironhack-datalabs/scavenger/contents/17020/97?ref=master', 'html_url': 'https://github.com/ironhack-datalabs/scavenger/blob/master/17020/97', 'git_url': 'https://api.github.com/repos/ironhack-datalabs/scavenger/git/blobs/e69de29bb2d1d6434b8b29ae775ad8c2e48c5391', 'download_url': 'https://raw.githubusercontent.com/ironhack-datalabs/scavenger/master/17020/97', 'type': 'file', '_links': {'self': 'https://api.github.com/repos/ironhack-datalabs/scavenger/contents/17020/97?ref=master', 'git': 'https://api.github.com/repos/ironhack-datalabs/scavenger/git/blobs/e69de29bb2d1d6434b8b29ae775ad8c2e48c5391', 'html': 'https://github.com/ironhack-datalabs/scavenger/blob/master/17020/97'}}], [{'name': '.0021.scavengerhunt', 'path': '30351/.0021.scavengerhunt', 'sha': 'fb828e4a926b0a84fc16111fc0ee3eeec41f0ce7', 'size': 5, 'url': 'https://api.github.com/repos/ironhack-datalabs/scavenger/contents/30351/.0021.scavengerhunt?ref=master', 'html_url': 'https://github.com/ironhack-datalabs/scavenger/blob/master/30351/.0021.scavengerhunt', 'git_url': 'https://api.github.com/repos/ironhack-datalabs/scavenger/git/blobs/fb828e4a926b0a84fc16111fc0ee3eeec41f0ce7', 'download_url': 'https://raw.githubusercontent.com/ironhack-datalabs/scavenger/master/30351/.0021.scavengerhunt', 'type': 'file', '_links': {'self': 'https://api.github.com/repos/ironhack-datalabs/scavenger/contents/30351/.0021.scavengerhunt?ref=master', 'git': 'https://api.github.com/repos/ironhack-datalabs/scavenger/git/blobs/fb828e4a926b0a84fc16111fc0ee3eeec41f0ce7', 'html': 'https://github.com/ironhack-datalabs/scavenger/blob/master/30351/.0021.scavengerhunt'}}, {'name': '22', 'path': '30351/22', 'sha': 'e69de29bb2d1d6434b8b29ae775ad8c2e48c5391', 'size': 0, 'url': 'https://api.github.com/repos/ironhack-datalabs/scavenger/contents/30351/22?ref=master', 'html_url': 'https://github.com/ironhack-datalabs/scavenger/blob/master/30351/22', 'git_url': 'https://api.github.com/repos/ironhack-datalabs/scavenger/git/blobs/e69de29bb2d1d6434b8b29ae775ad8c2e48c5391', 'download_url': 'https://raw.githubusercontent.com/ironhack-datalabs/scavenger/master/30351/22', 'type': 'file', '_links': {'self': 'https://api.github.com/repos/ironhack-datalabs/scavenger/contents/30351/22?ref=master', 'git': 'https://api.github.com/repos/ironhack-datalabs/scavenger/git/blobs/e69de29bb2d1d6434b8b29ae775ad8c2e48c5391', 'html': 'https://github.com/ironhack-datalabs/scavenger/blob/master/30351/22'}}, {'name': '96', 'path': '30351/96', 'sha': 'e69de29bb2d1d6434b8b29ae775ad8c2e48c5391', 'size': 0, 'url': 'https://api.github.com/repos/ironhack-datalabs/scavenger/contents/30351/96?ref=master', 'html_url': 'https://github.com/ironhack-datalabs/scavenger/blob/master/30351/96', 'git_url': 'https://api.github.com/repos/ironhack-datalabs/scavenger/git/blobs/e69de29bb2d1d6434b8b29ae775ad8c2e48c5391', 'download_url': 'https://raw.githubusercontent.com/ironhack-datalabs/scavenger/master/30351/96', 'type': 'file', '_links': {'self': 'https://api.github.com/repos/ironhack-datalabs/scavenger/contents/30351/96?ref=master', 'git': 'https://api.github.com/repos/ironhack-datalabs/scavenger/git/blobs/e69de29bb2d1d6434b8b29ae775ad8c2e48c5391', 'html': 'https://github.com/ironhack-datalabs/scavenger/blob/master/30351/96'}}], [{'name': '.0022.scavengerhunt', 'path': '40303/.0022.scavengerhunt', 'sha': 'bf3efa02f721c40c03a613824e345243a35f6812', 'size': 3, 'url': 'https://api.github.com/repos/ironhack-datalabs/scavenger/contents/40303/.0022.scavengerhunt?ref=master', 'html_url': 'https://github.com/ironhack-datalabs/scavenger/blob/master/40303/.0022.scavengerhunt', 'git_url': 'https://api.github.com/repos/ironhack-datalabs/scavenger/git/blobs/bf3efa02f721c40c03a613824e345243a35f6812', 'download_url': 'https://raw.githubusercontent.com/ironhack-datalabs/scavenger/master/40303/.0022.scavengerhunt', 'type': 'file', '_links': {'self': 'https://api.github.com/repos/ironhack-datalabs/scavenger/contents/40303/.0022.scavengerhunt?ref=master', 'git': 'https://api.github.com/repos/ironhack-datalabs/scavenger/git/blobs/bf3efa02f721c40c03a613824e345243a35f6812', 'html': 'https://github.com/ironhack-datalabs/scavenger/blob/master/40303/.0022.scavengerhunt'}}, {'name': '51', 'path': '40303/51', 'sha': 'e69de29bb2d1d6434b8b29ae775ad8c2e48c5391', 'size': 0, 'url': 'https://api.github.com/repos/ironhack-datalabs/scavenger/contents/40303/51?ref=master', 'html_url': 'https://github.com/ironhack-datalabs/scavenger/blob/master/40303/51', 'git_url': 'https://api.github.com/repos/ironhack-datalabs/scavenger/git/blobs/e69de29bb2d1d6434b8b29ae775ad8c2e48c5391', 'download_url': 'https://raw.githubusercontent.com/ironhack-datalabs/scavenger/master/40303/51', 'type': 'file', '_links': {'self': 'https://api.github.com/repos/ironhack-datalabs/scavenger/contents/40303/51?ref=master', 'git': 'https://api.github.com/repos/ironhack-datalabs/scavenger/git/blobs/e69de29bb2d1d6434b8b29ae775ad8c2e48c5391', 'html': 'https://github.com/ironhack-datalabs/scavenger/blob/master/40303/51'}}, {'name': '65', 'path': '40303/65', 'sha': 'e69de29bb2d1d6434b8b29ae775ad8c2e48c5391', 'size': 0, 'url': 'https://api.github.com/repos/ironhack-datalabs/scavenger/contents/40303/65?ref=master', 'html_url': 'https://github.com/ironhack-datalabs/scavenger/blob/master/40303/65', 'git_url': 'https://api.github.com/repos/ironhack-datalabs/scavenger/git/blobs/e69de29bb2d1d6434b8b29ae775ad8c2e48c5391', 'download_url': 'https://raw.githubusercontent.com/ironhack-datalabs/scavenger/master/40303/65', 'type': 'file', '_links': {'self': 'https://api.github.com/repos/ironhack-datalabs/scavenger/contents/40303/65?ref=master', 'git': 'https://api.github.com/repos/ironhack-datalabs/scavenger/git/blobs/e69de29bb2d1d6434b8b29ae775ad8c2e48c5391', 'html': 'https://github.com/ironhack-datalabs/scavenger/blob/master/40303/65'}}], [{'name': '.0005.scavengerhunt', 'path': '44639/.0005.scavengerhunt', 'sha': '3aaf448b40f878cf3067e2323616143bdde600de', 'size': 8, 'url': 'https://api.github.com/repos/ironhack-datalabs/scavenger/contents/44639/.0005.scavengerhunt?ref=master', 'html_url': 'https://github.com/ironhack-datalabs/scavenger/blob/master/44639/.0005.scavengerhunt', 'git_url': 'https://api.github.com/repos/ironhack-datalabs/scavenger/git/blobs/3aaf448b40f878cf3067e2323616143bdde600de', 'download_url': 'https://raw.githubusercontent.com/ironhack-datalabs/scavenger/master/44639/.0005.scavengerhunt', 'type': 'file', '_links': {'self': 'https://api.github.com/repos/ironhack-datalabs/scavenger/contents/44639/.0005.scavengerhunt?ref=master', 'git': 'https://api.github.com/repos/ironhack-datalabs/scavenger/git/blobs/3aaf448b40f878cf3067e2323616143bdde600de', 'html': 'https://github.com/ironhack-datalabs/scavenger/blob/master/44639/.0005.scavengerhunt'}}, {'name': '76', 'path': '44639/76', 'sha': 'e69de29bb2d1d6434b8b29ae775ad8c2e48c5391', 'size': 0, 'url': 'https://api.github.com/repos/ironhack-datalabs/scavenger/contents/44639/76?ref=master', 'html_url': 'https://github.com/ironhack-datalabs/scavenger/blob/master/44639/76', 'git_url': 'https://api.github.com/repos/ironhack-datalabs/scavenger/git/blobs/e69de29bb2d1d6434b8b29ae775ad8c2e48c5391', 'download_url': 'https://raw.githubusercontent.com/ironhack-datalabs/scavenger/master/44639/76', 'type': 'file', '_links': {'self': 'https://api.github.com/repos/ironhack-datalabs/scavenger/contents/44639/76?ref=master', 'git': 'https://api.github.com/repos/ironhack-datalabs/scavenger/git/blobs/e69de29bb2d1d6434b8b29ae775ad8c2e48c5391', 'html': 'https://github.com/ironhack-datalabs/scavenger/blob/master/44639/76'}}, {'name': '91', 'path': '44639/91', 'sha': 'e69de29bb2d1d6434b8b29ae775ad8c2e48c5391', 'size': 0, 'url': 'https://api.github.com/repos/ironhack-datalabs/scavenger/contents/44639/91?ref=master', 'html_url': 'https://github.com/ironhack-datalabs/scavenger/blob/master/44639/91', 'git_url': 'https://api.github.com/repos/ironhack-datalabs/scavenger/git/blobs/e69de29bb2d1d6434b8b29ae775ad8c2e48c5391', 'download_url': 'https://raw.githubusercontent.com/ironhack-datalabs/scavenger/master/44639/91', 'type': 'file', '_links': {'self': 'https://api.github.com/repos/ironhack-datalabs/scavenger/contents/44639/91?ref=master', 'git': 'https://api.github.com/repos/ironhack-datalabs/scavenger/git/blobs/e69de29bb2d1d6434b8b29ae775ad8c2e48c5391', 'html': 'https://github.com/ironhack-datalabs/scavenger/blob/master/44639/91'}}], [{'name': '.0018.scavengerhunt', 'path': '45525/.0018.scavengerhunt', 'sha': '397b22b2dc371e8db59ed327f0b75321e4c0d0f2', 'size': 12, 'url': 'https://api.github.com/repos/ironhack-datalabs/scavenger/contents/45525/.0018.scavengerhunt?ref=master', 'html_url': 'https://github.com/ironhack-datalabs/scavenger/blob/master/45525/.0018.scavengerhunt', 'git_url': 'https://api.github.com/repos/ironhack-datalabs/scavenger/git/blobs/397b22b2dc371e8db59ed327f0b75321e4c0d0f2', 'download_url': 'https://raw.githubusercontent.com/ironhack-datalabs/scavenger/master/45525/.0018.scavengerhunt', 'type': 'file', '_links': {'self': 'https://api.github.com/repos/ironhack-datalabs/scavenger/contents/45525/.0018.scavengerhunt?ref=master', 'git': 'https://api.github.com/repos/ironhack-datalabs/scavenger/git/blobs/397b22b2dc371e8db59ed327f0b75321e4c0d0f2', 'html': 'https://github.com/ironhack-datalabs/scavenger/blob/master/45525/.0018.scavengerhunt'}}, {'name': '67', 'path': '45525/67', 'sha': 'e69de29bb2d1d6434b8b29ae775ad8c2e48c5391', 'size': 0, 'url': 'https://api.github.com/repos/ironhack-datalabs/scavenger/contents/45525/67?ref=master', 'html_url': 'https://github.com/ironhack-datalabs/scavenger/blob/master/45525/67', 'git_url': 'https://api.github.com/repos/ironhack-datalabs/scavenger/git/blobs/e69de29bb2d1d6434b8b29ae775ad8c2e48c5391', 'download_url': 'https://raw.githubusercontent.com/ironhack-datalabs/scavenger/master/45525/67', 'type': 'file', '_links': {'self': 'https://api.github.com/repos/ironhack-datalabs/scavenger/contents/45525/67?ref=master', 'git': 'https://api.github.com/repos/ironhack-datalabs/scavenger/git/blobs/e69de29bb2d1d6434b8b29ae775ad8c2e48c5391', 'html': 'https://github.com/ironhack-datalabs/scavenger/blob/master/45525/67'}}, {'name': '90', 'path': '45525/90', 'sha': 'e69de29bb2d1d6434b8b29ae775ad8c2e48c5391', 'size': 0, 'url': 'https://api.github.com/repos/ironhack-datalabs/scavenger/contents/45525/90?ref=master', 'html_url': 'https://github.com/ironhack-datalabs/scavenger/blob/master/45525/90', 'git_url': 'https://api.github.com/repos/ironhack-datalabs/scavenger/git/blobs/e69de29bb2d1d6434b8b29ae775ad8c2e48c5391', 'download_url': 'https://raw.githubusercontent.com/ironhack-datalabs/scavenger/master/45525/90', 'type': 'file', '_links': {'self': 'https://api.github.com/repos/ironhack-datalabs/scavenger/contents/45525/90?ref=master', 'git': 'https://api.github.com/repos/ironhack-datalabs/scavenger/git/blobs/e69de29bb2d1d6434b8b29ae775ad8c2e48c5391', 'html': 'https://github.com/ironhack-datalabs/scavenger/blob/master/45525/90'}}], [{'name': '.0016.scavengerhunt', 'path': '47222/.0016.scavengerhunt', 'sha': 'f5cb13223fdc1b11f4cfbbe1694f533b3c579fa0', 'size': 3, 'url': 'https://api.github.com/repos/ironhack-datalabs/scavenger/contents/47222/.0016.scavengerhunt?ref=master', 'html_url': 'https://github.com/ironhack-datalabs/scavenger/blob/master/47222/.0016.scavengerhunt', 'git_url': 'https://api.github.com/repos/ironhack-datalabs/scavenger/git/blobs/f5cb13223fdc1b11f4cfbbe1694f533b3c579fa0', 'download_url': 'https://raw.githubusercontent.com/ironhack-datalabs/scavenger/master/47222/.0016.scavengerhunt', 'type': 'file', '_links': {'self': 'https://api.github.com/repos/ironhack-datalabs/scavenger/contents/47222/.0016.scavengerhunt?ref=master', 'git': 'https://api.github.com/repos/ironhack-datalabs/scavenger/git/blobs/f5cb13223fdc1b11f4cfbbe1694f533b3c579fa0', 'html': 'https://github.com/ironhack-datalabs/scavenger/blob/master/47222/.0016.scavengerhunt'}}, {'name': '.0024.scavengerhunt', 'path': '47222/.0024.scavengerhunt', 'sha': '47eb4306e5fec9e051dacabc7039348109784b94', 'size': 6, 'url': 'https://api.github.com/repos/ironhack-datalabs/scavenger/contents/47222/.0024.scavengerhunt?ref=master', 'html_url': 'https://github.com/ironhack-datalabs/scavenger/blob/master/47222/.0024.scavengerhunt', 'git_url': 'https://api.github.com/repos/ironhack-datalabs/scavenger/git/blobs/47eb4306e5fec9e051dacabc7039348109784b94', 'download_url': 'https://raw.githubusercontent.com/ironhack-datalabs/scavenger/master/47222/.0024.scavengerhunt', 'type': 'file', '_links': {'self': 'https://api.github.com/repos/ironhack-datalabs/scavenger/contents/47222/.0024.scavengerhunt?ref=master', 'git': 'https://api.github.com/repos/ironhack-datalabs/scavenger/git/blobs/47eb4306e5fec9e051dacabc7039348109784b94', 'html': 'https://github.com/ironhack-datalabs/scavenger/blob/master/47222/.0024.scavengerhunt'}}, {'name': '7', 'path': '47222/7', 'sha': 'e69de29bb2d1d6434b8b29ae775ad8c2e48c5391', 'size': 0, 'url': 'https://api.github.com/repos/ironhack-datalabs/scavenger/contents/47222/7?ref=master', 'html_url': 'https://github.com/ironhack-datalabs/scavenger/blob/master/47222/7', 'git_url': 'https://api.github.com/repos/ironhack-datalabs/scavenger/git/blobs/e69de29bb2d1d6434b8b29ae775ad8c2e48c5391', 'download_url': 'https://raw.githubusercontent.com/ironhack-datalabs/scavenger/master/47222/7', 'type': 'file', '_links': {'self': 'https://api.github.com/repos/ironhack-datalabs/scavenger/contents/47222/7?ref=master', 'git': 'https://api.github.com/repos/ironhack-datalabs/scavenger/git/blobs/e69de29bb2d1d6434b8b29ae775ad8c2e48c5391', 'html': 'https://github.com/ironhack-datalabs/scavenger/blob/master/47222/7'}}, {'name': '89', 'path': '47222/89', 'sha': 'e69de29bb2d1d6434b8b29ae775ad8c2e48c5391', 'size': 0, 'url': 'https://api.github.com/repos/ironhack-datalabs/scavenger/contents/47222/89?ref=master', 'html_url': 'https://github.com/ironhack-datalabs/scavenger/blob/master/47222/89', 'git_url': 'https://api.github.com/repos/ironhack-datalabs/scavenger/git/blobs/e69de29bb2d1d6434b8b29ae775ad8c2e48c5391', 'download_url': 'https://raw.githubusercontent.com/ironhack-datalabs/scavenger/master/47222/89', 'type': 'file', '_links': {'self': 'https://api.github.com/repos/ironhack-datalabs/scavenger/contents/47222/89?ref=master', 'git': 'https://api.github.com/repos/ironhack-datalabs/scavenger/git/blobs/e69de29bb2d1d6434b8b29ae775ad8c2e48c5391', 'html': 'https://github.com/ironhack-datalabs/scavenger/blob/master/47222/89'}}], {'message': \"API rate limit exceeded for 2.136.116.82. (But here's the good news: Authenticated requests get a higher rate limit. Check out the documentation for more details.)\", 'documentation_url': 'https://docs.github.com/rest/overview/resources-in-the-rest-api#rate-limiting'}, {'message': \"API rate limit exceeded for 2.136.116.82. (But here's the good news: Authenticated requests get a higher rate limit. Check out the documentation for more details.)\", 'documentation_url': 'https://docs.github.com/rest/overview/resources-in-the-rest-api#rate-limiting'}, {'message': \"API rate limit exceeded for 2.136.116.82. (But here's the good news: Authenticated requests get a higher rate limit. Check out the documentation for more details.)\", 'documentation_url': 'https://docs.github.com/rest/overview/resources-in-the-rest-api#rate-limiting'}, {'message': \"API rate limit exceeded for 2.136.116.82. (But here's the good news: Authenticated requests get a higher rate limit. Check out the documentation for more details.)\", 'documentation_url': 'https://docs.github.com/rest/overview/resources-in-the-rest-api#rate-limiting'}, {'message': \"API rate limit exceeded for 2.136.116.82. (But here's the good news: Authenticated requests get a higher rate limit. Check out the documentation for more details.)\", 'documentation_url': 'https://docs.github.com/rest/overview/resources-in-the-rest-api#rate-limiting'}, {'message': \"API rate limit exceeded for 2.136.116.82. (But here's the good news: Authenticated requests get a higher rate limit. Check out the documentation for more details.)\", 'documentation_url': 'https://docs.github.com/rest/overview/resources-in-the-rest-api#rate-limiting'}, {'message': \"API rate limit exceeded for 2.136.116.82. (But here's the good news: Authenticated requests get a higher rate limit. Check out the documentation for more details.)\", 'documentation_url': 'https://docs.github.com/rest/overview/resources-in-the-rest-api#rate-limiting'}, {'message': \"API rate limit exceeded for 2.136.116.82. (But here's the good news: Authenticated requests get a higher rate limit. Check out the documentation for more details.)\", 'documentation_url': 'https://docs.github.com/rest/overview/resources-in-the-rest-api#rate-limiting'}, {'message': \"API rate limit exceeded for 2.136.116.82. (But here's the good news: Authenticated requests get a higher rate limit. Check out the documentation for more details.)\", 'documentation_url': 'https://docs.github.com/rest/overview/resources-in-the-rest-api#rate-limiting'}, {'message': \"API rate limit exceeded for 2.136.116.82. (But here's the good news: Authenticated requests get a higher rate limit. Check out the documentation for more details.)\", 'documentation_url': 'https://docs.github.com/rest/overview/resources-in-the-rest-api#rate-limiting'}, {'message': \"API rate limit exceeded for 2.136.116.82. (But here's the good news: Authenticated requests get a higher rate limit. Check out the documentation for more details.)\", 'documentation_url': 'https://docs.github.com/rest/overview/resources-in-the-rest-api#rate-limiting'}, {'message': \"API rate limit exceeded for 2.136.116.82. (But here's the good news: Authenticated requests get a higher rate limit. Check out the documentation for more details.)\", 'documentation_url': 'https://docs.github.com/rest/overview/resources-in-the-rest-api#rate-limiting'}, {'message': \"API rate limit exceeded for 2.136.116.82. (But here's the good news: Authenticated requests get a higher rate limit. Check out the documentation for more details.)\", 'documentation_url': 'https://docs.github.com/rest/overview/resources-in-the-rest-api#rate-limiting'}, {'message': \"API rate limit exceeded for 2.136.116.82. (But here's the good news: Authenticated requests get a higher rate limit. Check out the documentation for more details.)\", 'documentation_url': 'https://docs.github.com/rest/overview/resources-in-the-rest-api#rate-limiting'}, {'message': \"API rate limit exceeded for 2.136.116.82. (But here's the good news: Authenticated requests get a higher rate limit. Check out the documentation for more details.)\", 'documentation_url': 'https://docs.github.com/rest/overview/resources-in-the-rest-api#rate-limiting'}, {'message': \"API rate limit exceeded for 2.136.116.82. (But here's the good news: Authenticated requests get a higher rate limit. Check out the documentation for more details.)\", 'documentation_url': 'https://docs.github.com/rest/overview/resources-in-the-rest-api#rate-limiting'}, {'message': \"API rate limit exceeded for 2.136.116.82. (But here's the good news: Authenticated requests get a higher rate limit. Check out the documentation for more details.)\", 'documentation_url': 'https://docs.github.com/rest/overview/resources-in-the-rest-api#rate-limiting'}]\n"
     ]
    }
   ],
   "source": [
    "print(scavengers)"
   ]
  },
  {
   "cell_type": "code",
   "execution_count": 106,
   "metadata": {
    "scrolled": true
   },
   "outputs": [
    {
     "name": "stdout",
     "output_type": "stream",
     "text": [
      "https://raw.githubusercontent.com/ironhack-datalabs/scavenger/master/15024/.0006.scavengerhunt\n",
      "https://raw.githubusercontent.com/ironhack-datalabs/scavenger/master/15024/40\n",
      "https://raw.githubusercontent.com/ironhack-datalabs/scavenger/master/15024/74\n",
      "https://raw.githubusercontent.com/ironhack-datalabs/scavenger/master/15024/99\n",
      "https://raw.githubusercontent.com/ironhack-datalabs/scavenger/master/15534/.0008.scavengerhunt\n",
      "https://raw.githubusercontent.com/ironhack-datalabs/scavenger/master/15534/.0012.scavengerhunt\n",
      "https://raw.githubusercontent.com/ironhack-datalabs/scavenger/master/15534/2\n",
      "https://raw.githubusercontent.com/ironhack-datalabs/scavenger/master/15534/98\n",
      "https://raw.githubusercontent.com/ironhack-datalabs/scavenger/master/17020/.0007.scavengerhunt\n",
      "https://raw.githubusercontent.com/ironhack-datalabs/scavenger/master/17020/46\n",
      "https://raw.githubusercontent.com/ironhack-datalabs/scavenger/master/17020/97\n",
      "https://raw.githubusercontent.com/ironhack-datalabs/scavenger/master/30351/.0021.scavengerhunt\n",
      "https://raw.githubusercontent.com/ironhack-datalabs/scavenger/master/30351/22\n",
      "https://raw.githubusercontent.com/ironhack-datalabs/scavenger/master/30351/96\n",
      "https://raw.githubusercontent.com/ironhack-datalabs/scavenger/master/40303/.0022.scavengerhunt\n",
      "https://raw.githubusercontent.com/ironhack-datalabs/scavenger/master/40303/51\n",
      "https://raw.githubusercontent.com/ironhack-datalabs/scavenger/master/40303/65\n",
      "https://raw.githubusercontent.com/ironhack-datalabs/scavenger/master/44639/.0005.scavengerhunt\n",
      "https://raw.githubusercontent.com/ironhack-datalabs/scavenger/master/44639/76\n",
      "https://raw.githubusercontent.com/ironhack-datalabs/scavenger/master/44639/91\n",
      "https://raw.githubusercontent.com/ironhack-datalabs/scavenger/master/45525/.0018.scavengerhunt\n",
      "https://raw.githubusercontent.com/ironhack-datalabs/scavenger/master/45525/67\n",
      "https://raw.githubusercontent.com/ironhack-datalabs/scavenger/master/45525/90\n",
      "https://raw.githubusercontent.com/ironhack-datalabs/scavenger/master/47222/.0016.scavengerhunt\n",
      "https://raw.githubusercontent.com/ironhack-datalabs/scavenger/master/47222/.0024.scavengerhunt\n",
      "https://raw.githubusercontent.com/ironhack-datalabs/scavenger/master/47222/7\n",
      "https://raw.githubusercontent.com/ironhack-datalabs/scavenger/master/47222/89\n"
     ]
    }
   ],
   "source": [
    "scavhunt_url = []\n",
    "for s in scavengers:\n",
    "    for v in s:\n",
    "            if type(v) == dict:\n",
    "                print(v['download_url'])"
   ]
  },
  {
   "cell_type": "code",
   "execution_count": null,
   "metadata": {},
   "outputs": [],
   "source": []
  },
  {
   "cell_type": "code",
   "execution_count": null,
   "metadata": {},
   "outputs": [],
   "source": [
    "scavhunt_url = []\n",
    "for s in scavengers:\n",
    "    for v in s:\n",
    "            if type(v) == dict:\n",
    "                for l, m in v.items():\n",
    "                    if re.findall(r'scavengerhunt', str(m)) and re.findall(r'raw', str(m)):\n",
    "                        print(m)"
   ]
  }
 ],
 "metadata": {
  "kernelspec": {
   "display_name": "ironcon",
   "language": "python",
   "name": "ironcon"
  },
  "language_info": {
   "codemirror_mode": {
    "name": "ipython",
    "version": 3
   },
   "file_extension": ".py",
   "mimetype": "text/x-python",
   "name": "python",
   "nbconvert_exporter": "python",
   "pygments_lexer": "ipython3",
   "version": "3.8.11"
  },
  "toc": {
   "base_numbering": 1,
   "nav_menu": {},
   "number_sections": true,
   "sideBar": true,
   "skip_h1_title": true,
   "title_cell": "Table of Contents",
   "title_sidebar": "Contents",
   "toc_cell": false,
   "toc_position": {},
   "toc_section_display": true,
   "toc_window_display": true
  }
 },
 "nbformat": 4,
 "nbformat_minor": 5
}
